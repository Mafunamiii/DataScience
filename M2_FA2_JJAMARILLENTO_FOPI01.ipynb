{
 "cells": [
  {
   "cell_type": "code",
   "execution_count": 1,
   "metadata": {
    "id": "_bsizUzbi6cX"
   },
   "outputs": [],
   "source": [
    "import time, matplotlib.pyplot as mplot\n",
    "from google.colab import output\n",
    "from matplotlib.ticker import AutoMinorLocator, MultipleLocator"
   ]
  },
  {
   "cell_type": "code",
   "execution_count": 2,
   "metadata": {
    "id": "JWUch7u4ja79"
   },
   "outputs": [],
   "source": [
    "request = []\n",
    "verticalAxis = []\n",
    "algorithm = []\n",
    "queue = []\n",
    "srs_1 = []\n",
    "srs_2 = []\n",
    "high = []\n",
    "low  = [] \n",
    "first = 0\n",
    "second = 0\n",
    "i = 0 \n",
    "lim = 0 \n",
    "head = 0\n",
    "total = 0 \n",
    "entry = 0\n",
    "Validate = False\n",
    "dir = '' \n",
    "\n",
    "def resetVars():\n",
    "  global request, verticalAxis, algorithm, queue, srs_1, srs_2, i, lim, head, total, Validate, dir, high, low, entry\n",
    "\n",
    "  request = []\n",
    "  verticalAxis = []\n",
    "  algorithm = []\n",
    "  queue = []\n",
    "  srs_1 = []\n",
    "  srs_2 = []\n",
    "  high = []\n",
    "  low = []\n",
    "  first = 0\n",
    "  second  = 0\n",
    "  i = 0 \n",
    "  lim = 0 \n",
    "  head = 0\n",
    "  total = 0 \n",
    "  entry = 0\n",
    "  Validate = False\n",
    "  dir = '' "
   ]
  },
  {
   "cell_type": "code",
   "execution_count": 76,
   "metadata": {
    "id": "eJMadzXo4eUP"
   },
   "outputs": [],
   "source": [
    "def getInput ():\n",
    "  global request, verticalAxis, i, lim, head, total, Validate, dir, entry \n",
    "  resetVars()\n",
    "  \n",
    "  while lim < 100 or lim > 500:\n",
    "\n",
    "    lim = int (input('Range upper limit(100-500): '))\n",
    "    if (lim >= 100 and lim <= 500 ): break\n",
    "    else: \n",
    "      print('Number must be within 100 to 500')\n",
    "      time.sleep(1)\n",
    "      continue\n",
    "  \n",
    "  while not(Validate):\n",
    "    i = 0\n",
    "    request = input('Enter queue (separated by spaces):')\n",
    "    for ent in request.split():\n",
    "      temp = int(ent)\n",
    "      if (temp > 0 and temp < lim-1): i += 1\n",
    "      if (i == len(request.split())): Validate = True\n",
    "    if (i >= 10 and Validate): \n",
    "      for ent in range(1, i+2): verticalAxis.append(ent)\n",
    "    else:\n",
    "        print('Please enter a valid number')\n",
    "        time.sleep(1)\n",
    "        print('Range: ', lim - 1)\n",
    "        continue\n",
    "      \n",
    "  while not dir:\n",
    "    print('Directions: \\n 1 Left \\t 2 Right')\n",
    "    u_choice = int(input('Enter direction(1-2): '))\n",
    "    if  (u_choice == 1): dir = 'LEFT'\n",
    "    elif(u_choice == 2): dir = 'RIGHT'\n",
    "    else:\n",
    "      ('Please enter a valid number')\n",
    "      time.sleep(1)\n",
    "      output.clear()\n",
    "      continue\n",
    "  head = int(input('Enter head value: '))\n",
    "  request = [int(num) for num in request.split()]\n",
    "\n",
    "def fcfs():\n",
    "  global head, request, i, total, algorithm, queue, srs_1, srs_2\n",
    "\n",
    "  total = 0\n",
    "  x = 1\n",
    "  \n",
    "  if head > request[0]: temp = head - request[0]\n",
    "  else: \n",
    "    temp = request[0] - head\n",
    "    algorithm.append(temp)\n",
    "\n",
    "  while x < i:\n",
    "    z = request[x]\n",
    "    y = request[(x-1)]\n",
    "    if x < i:\n",
    "      if y > z: algorithm.append(y - z)\n",
    "      elif y < z: algorithm.append(z - y)\n",
    "    elif (x >= 10): break\n",
    "    x += 1\n",
    "  queue.append(head)\n",
    "  for ent in request:\n",
    "    queue.append(ent)\n",
    "\n",
    "  for i in range(len(algorithm)):\n",
    "    total += algorithm[i]\n",
    "   \n",
    "def sstf():\n",
    "  global head, request, i, total, algorithm, queue, srs_1, srs_2, high, low, first, second\n",
    "\n",
    "  total = 0 \n",
    "  previous = 0\n",
    "  current  = 0\n",
    "  next     = 0\n",
    "  h_I = 0\n",
    "  l_I = 0\n",
    "  lowPrev = False\n",
    "  hiPrev  = False\n",
    "  srs_1 = request\n",
    "  srs_1.sort()\n",
    "\n",
    "  for ent in srs_1:\n",
    "    if(head > ent): low.append(ent)\n",
    "    else: high.append(ent)\n",
    "  \n",
    "  queue.append(head)\n",
    "  low.sort(reverse = True)\n",
    "  high.sort()\n",
    "  current = head\n",
    "  previous= low[l_I]\n",
    "  next    = high[h_I]\n",
    "\n",
    "  for num in range(i):\n",
    "    if(current - previous < next - current):\n",
    "      srs_2.append(previous)\n",
    "      current = previous\n",
    "\n",
    "      if(l_I < len(low) - 1):\n",
    "        l_I += 1\n",
    "        previous = low[l_I]\n",
    "      else: \n",
    "        lowPrev = True\n",
    "        break\n",
    "    else: \n",
    "      srs_2.append(next)\n",
    "      current = next\n",
    "      \n",
    "      if(h_I < len(high) - 1):\n",
    "        h_I += 1\n",
    "        next = high[h_I]\n",
    "      else:\n",
    "        lowPrev = True\n",
    "        break\n",
    "  if(lowPrev): \n",
    "    for num in range(h_I, len(high)):srs_2.append(high[num])\n",
    "  else:\n",
    "    for num in range(l_I, len(low)):srs_2.append(low[num])\n",
    "\n",
    "  for num in srs_2: queue.append(num)\n",
    "\n",
    "  first = head\n",
    "  for variable in srs_2:\n",
    "    second = variable\n",
    "    if (first >= second): algorithm.append(first - second)\n",
    "    else: algorithm.append(second - first)\n",
    "    first = second\n",
    "\n",
    "  for i in range(len(srs_2)): total += algorithm[i]\n",
    "  if (len(verticalAxis) > len(queue)): verticalAxis.pop()\n",
    "\n",
    "def scan():\n",
    "  global head, request, i, total, algorithm, queue, verticalAxis, srs_1, srs_2, high, low, first, second, entry, dir\n",
    "\n",
    "  srs_1 = request\n",
    "  srs_1.sort()\n",
    "\n",
    "\n",
    "  verticalAxis = []\n",
    "  for ent in srs_1:\n",
    "    if(head > ent): low.append(ent)\n",
    "    else: high.append(ent)\n",
    "  low.sort(reverse = True)\n",
    "  high.sort()\n",
    "  queue.append(head)\n",
    "\n",
    "  entry = low + high\n",
    "  if (dir == 'LEFT'):\n",
    "    for x in range(len(low)): queue.append(high[x])\n",
    "    if(all(item in queue for item in srs_1) == False): queue.append(0)\n",
    "    for x in range(len(high)): queue.append(high[x])\n",
    "  else:\n",
    "    for x in range(len(high)): queue.append(high[x])\n",
    "    if(all(item in queue for item in srs_1) == False): queue.append(lim -1)\n",
    "    for x in range(len(low)): queue.append(low[x])\n",
    "  \n",
    "  first = head\n",
    "  for ent in entry:\n",
    "    second = ent\n",
    "    if(first >= second): algorithm.append(first - second)\n",
    "    else: algorithm.append(second - first)\n",
    "    first = second\n",
    "\n",
    "  for ent in range(1, len(queue) + 1): verticalAxis.append(ent)\n",
    "  for i in range(len(entry)): total += algorithm[i] \n",
    "\n",
    "def cscan():\n",
    "  global head, request, i, total, algorithm, queue, verticalAxis, srs_1, srs_2, high, low, first, second, entry\n",
    "\n",
    "  verticalAxis = []\n",
    "  srs_1 = request\n",
    "  srs_1.sort()\n",
    "\n",
    "  for ent in range(i):\n",
    "    if (head > ent): high.append(srs_1[ent])\n",
    "    else: low.append(srs_1[ent])\n",
    "\n",
    "  low.sort()\n",
    "  high.sort()\n",
    "  queue.append(head)\n",
    "\n",
    "  if (dir == 'RIGHT'):\n",
    "    middle = high + low\n",
    "\n",
    "    for x in range(len(low)): queue.append(low[x])\n",
    "    if (all(item in queue for item in srs_1) == False):\n",
    "      queue.append(lim - 1)\n",
    "      queue.append(0)\n",
    "    for x in range(len(high)): queue.append(high[x])\n",
    "  \n",
    "  else:\n",
    "    high.sort(reverse = True)\n",
    "    low.sort(reverse = True)\n",
    "\n",
    "    middle = high + low\n",
    "\n",
    "    for x in range(len(high)): queue.append(high[x])\n",
    "    if (all(item in queue for item in request) == False):\n",
    "      queue.append(0)\n",
    "      queue.append(lim-1)\n",
    "    for x in range(len(low)): queue.append(low[x])\n",
    "  \n",
    "  for x in range(1, len(queue)+1):verticalAxis.append(x)\n",
    "\n",
    "  first = head\n",
    "  for ent in middle:\n",
    "    second = ent\n",
    "    if (first >= second): algorithm.append(first - second)\n",
    "    else: algorithm.append(second - first)\n",
    "    first = second\n",
    "  \n",
    "  for x in range(len(algorithm)):\n",
    "    total += algorithm[x]\n",
    "\n",
    "def look():\n",
    "  global head, request, i, total, algorithm, queue, verticalAxis, srs_1, srs_2, high, low, first, second, entry\n",
    "\n",
    "  srs_1 = request\n",
    "  srs_1.sort\n",
    "  verticalAxis = []\n",
    "  for ent in srs_1:\n",
    "    if(head > ent): low.append(ent)\n",
    "    else: high.append(ent)\n",
    "  \n",
    "  low.sort(reverse = True)\n",
    "  high.sort()\n",
    "  queue.append(head)\n",
    "\n",
    "  entry = low + high\n",
    "  \n",
    "  for ent in entry:\n",
    "    queue.append(ent)\n",
    "\n",
    "  first = head\n",
    "  for ent in entry:\n",
    "    second = ent\n",
    "    if(first >= second):\n",
    "      algorithm.append(first - second)\n",
    "    else:\n",
    "      algorithm.append(second - first)\n",
    "    first = second\n",
    "\n",
    "  for ent in range(1, len(queue)+1):verticalAxis.append(ent)\n",
    "  for i in range(len(entry)): total += algorithm[i]\n",
    "\n",
    "def showPlot(algo):\n",
    "  global head, request, verticalAxis, i, total, algorithm\n",
    "   \n",
    "  locSeek = 0\n",
    "  loctvse = []\n",
    "\n",
    "  fig, ax = mplot.subplots(figsize=(10, 10))\n",
    "  ax.set_xlim(0, lim-1)\n",
    "  ax.set_ylim(0, len(verticalAxis)+1)\n",
    "  ax.xaxis.set_major_locator(MultipleLocator(lim/10))\n",
    "  ax.yaxis.set_major_locator(MultipleLocator(1))\n",
    "  ax.xaxis.set_minor_locator(AutoMinorLocator(2))\n",
    "  ax.yaxis.set_minor_locator(AutoMinorLocator(2))\n",
    "  ax.xaxis.tick_top()\n",
    "  ax.xaxis.set_label_position('top')\n",
    "  mplot.gca().invert_yaxis()\n",
    "  mplot.plot(queue, verticalAxis, color='c', marker='o')\n",
    "\n",
    "  if (algo == 1):mplot.title('FCFS Disk Scheduling Algorithm')\n",
    "  elif (algo == 2):mplot.title('SSTF Disk Scheduling Algorithm')\n",
    "  elif (algo == 3):mplot.title('SCAN Disk Scheduling Algorithm')\n",
    "  elif (algo == 4):mplot.title('CSCAN Disk Scheduling Algorithm')\n",
    "  elif (algo == 5):mplot.title('LOOK Disk Scheduling Algorithm')\n",
    "  else: \n",
    "    print('Please enter a valid number!')\n",
    "  mplot.grid(True)\n",
    "  mplot.gca().axes.get_yaxis().set_visible(False)\n",
    "  mplot.show()\n",
    "  print(\"Total Seek Time: \", total)\n",
    "  print(\"Average Seek Time: \", total / len(algorithm))\n",
    "\n",
    "def runProgram():\n",
    "  print('=============================')\n",
    "  print('\\n Enter values:\\n')\n",
    "  getInput()  \n",
    "  print('=============================')\n",
    "  print('\\nAlgorithms:\\n 1 - FCFS \\t 2 - SSTF \\n 3 - SCAN \\t 4 - CSCAN\\n 5 - LOOK \\n')\n",
    "  while (True):\n",
    "    u_algo = int(input('Algorithm selected (num): '))\n",
    "    if (u_algo > 0 and u_algo < 6):\n",
    "      break\n",
    "    else: print('Please enter a valid number!')\n",
    "  print('\\n=============================')\n",
    "  print('Results: \\n')\n",
    "  if (u_algo == 1):\n",
    "    fcfs()\n",
    "    showPlot(u_algo)\n",
    "  elif (u_algo == 2):\n",
    "    sstf()\n",
    "    showPlot(u_algo)\n",
    "  elif (u_algo == 3):\n",
    "    scan()\n",
    "    showPlot(u_algo)\n",
    "  elif (u_algo == 4):\n",
    "    cscan()\n",
    "    showPlot(u_algo)\n",
    "  elif (u_algo == 5):\n",
    "    look()\n",
    "    showPlot(u_algo)\n",
    "\n",
    "def Program():\n",
    "  while (True):\n",
    "    runProgram()\n",
    "    if (not tryAgain()):\n",
    "      break\n",
    "  print('Thank you for using AlgoCal!')     \n",
    "\n",
    "def tryAgain():\n",
    "  while(True):\n",
    "\n",
    "    u_choice = input('Return to main menu? [Y/N]: ')\n",
    "    if (u_choice == 'Y' or u_choice == 'y'):\n",
    "      return True\n",
    "      break\n",
    "    elif (u_choice == 'N' or u_choice == 'n'):\n",
    "      return False\n",
    "      break\n",
    "    else:\n",
    "      print('Please enter a valid repsponse.')"
   ]
  },
  {
   "cell_type": "code",
   "execution_count": 71,
   "metadata": {
    "colab": {
     "base_uri": "https://localhost:8080/",
     "height": 1059
    },
    "id": "0ENWVwbIxwFs",
    "outputId": "22aaff20-5197-4b74-e664-8c2ac30f3fc7"
   },
   "outputs": [
    {
     "name": "stdout",
     "output_type": "stream",
     "text": [
      "=============================\n",
      "\n",
      " Enter values:\n",
      "\n",
      "Range upper limit(100-500): 300\n",
      "Enter queue (separated by spaces):214 150 16 60  100 208 187 90  99  134\n",
      "Directions: \n",
      " 1 Left \t 2 Right\n",
      "Enter direction(1-2): 2\n",
      "Enter head value: 100\n",
      "=============================\n",
      "\n",
      "Algorithms:\n",
      " 1 - FCFS \t 2 - SSTF \n",
      " 3 - SCAN \t 4 - CSCAN\n",
      " 5 - LOOK \n",
      "\n",
      "Algorithm selected (num): 1\n",
      "\n",
      "=============================\n",
      "Results: \n",
      "\n"
     ]
    },
    {
     "data": {
      "image/png": "[encoded data removed]",
      "text/plain": [
       "<Figure size 720x720 with 1 Axes>"
      ]
     },
     "metadata": {
      "needs_background": "light"
     },
     "output_type": "display_data"
    },
    {
     "name": "stdout",
     "output_type": "stream",
     "text": [
      "Total Seek Time:  666\n",
      "Average Seek Time:  66.6\n",
      "Return to main menu? [Y/N]: n\n",
      "Thank you for using AlgoCal!\n"
     ]
    }
   ],
   "source": [
    "#FCFS\n",
    "Program()"
   ]
  },
  {
   "cell_type": "code",
   "execution_count": 74,
   "metadata": {
    "colab": {
     "base_uri": "https://localhost:8080/",
     "height": 1059
    },
    "id": "38gM1uTFyV8f",
    "outputId": "6706b118-0cc6-43da-e6c6-ab9c4b799117"
   },
   "outputs": [
    {
     "name": "stdout",
     "output_type": "stream",
     "text": [
      "=============================\n",
      "\n",
      " Enter values:\n",
      "\n",
      "Range upper limit(100-500): 300\n",
      "Enter queue (separated by spaces):214 150 16 60  100 208 187 90  99  134\n",
      "Directions: \n",
      " 1 Left \t 2 Right\n",
      "Enter direction(1-2): 1\n",
      "Enter head value: 100\n",
      "=============================\n",
      "\n",
      "Algorithms:\n",
      " 1 - FCFS \t 2 - SSTF \n",
      " 3 - SCAN \t 4 - CSCAN\n",
      " 5 - LOOK \n",
      "\n",
      "Algorithm selected (num): 2\n",
      "\n",
      "=============================\n",
      "Results: \n",
      "\n"
     ]
    },
    {
     "data": {
      "image/png": "[encoded data removed]",
      "text/plain": [
       "<Figure size 720x720 with 1 Axes>"
      ]
     },
     "metadata": {
      "needs_background": "light"
     },
     "output_type": "display_data"
    },
    {
     "name": "stdout",
     "output_type": "stream",
     "text": [
      "Total Seek Time:  282\n",
      "Average Seek Time:  28.2\n",
      "Return to main menu? [Y/N]: n\n",
      "Thank you for using AlgoCal!\n"
     ]
    }
   ],
   "source": [
    "#SSTF\n",
    "Program()"
   ]
  },
  {
   "cell_type": "code",
   "execution_count": 77,
   "metadata": {
    "colab": {
     "base_uri": "https://localhost:8080/",
     "height": 1059
    },
    "id": "vDm3nzMw4NAS",
    "outputId": "122509b5-6967-418b-ae7e-50aa572f246c"
   },
   "outputs": [
    {
     "name": "stdout",
     "output_type": "stream",
     "text": [
      "=============================\n",
      "\n",
      " Enter values:\n",
      "\n",
      "Range upper limit(100-500): 300\n",
      "Enter queue (separated by spaces):214 150 16 60  100 208 187 90  99  134\n",
      "Directions: \n",
      " 1 Left \t 2 Right\n",
      "Enter direction(1-2): 1\n",
      "Enter head value: 100\n",
      "=============================\n",
      "\n",
      "Algorithms:\n",
      " 1 - FCFS \t 2 - SSTF \n",
      " 3 - SCAN \t 4 - CSCAN\n",
      " 5 - LOOK \n",
      "\n",
      "Algorithm selected (num): 3\n",
      "\n",
      "=============================\n",
      "Results: \n",
      "\n"
     ]
    },
    {
     "data": {
      "image/png": "[encoded data removed]",
      "text/plain": [
       "<Figure size 720x720 with 1 Axes>"
      ]
     },
     "metadata": {
      "needs_background": "light"
     },
     "output_type": "display_data"
    },
    {
     "name": "stdout",
     "output_type": "stream",
     "text": [
      "Total Seek Time:  282\n",
      "Average Seek Time:  28.2\n",
      "Return to main menu? [Y/N]: n\n",
      "Thank you for using AlgoCal!\n"
     ]
    }
   ],
   "source": [
    "#SCAN\n",
    "Program()"
   ]
  },
  {
   "cell_type": "code",
   "execution_count": 78,
   "metadata": {
    "colab": {
     "base_uri": "https://localhost:8080/",
     "height": 1059
    },
    "id": "-YSZY2Jk4Pg3",
    "outputId": "31149a68-a5be-44ce-cd72-b83acca9b3fb"
   },
   "outputs": [
    {
     "name": "stdout",
     "output_type": "stream",
     "text": [
      "=============================\n",
      "\n",
      " Enter values:\n",
      "\n",
      "Range upper limit(100-500): 300\n",
      "Enter queue (separated by spaces):214 150 16 60  100 208 187 90  99  134\n",
      "Directions: \n",
      " 1 Left \t 2 Right\n",
      "Enter direction(1-2): 2\n",
      "Enter head value: 100\n",
      "=============================\n",
      "\n",
      "Algorithms:\n",
      " 1 - FCFS \t 2 - SSTF \n",
      " 3 - SCAN \t 4 - CSCAN\n",
      " 5 - LOOK \n",
      "\n",
      "Algorithm selected (num): 4\n",
      "\n",
      "=============================\n",
      "Results: \n",
      "\n"
     ]
    },
    {
     "data": {
      "image/png": "[encoded data removed]",
      "text/plain": [
       "<Figure size 720x720 with 1 Axes>"
      ]
     },
     "metadata": {
      "needs_background": "light"
     },
     "output_type": "display_data"
    },
    {
     "name": "stdout",
     "output_type": "stream",
     "text": [
      "Total Seek Time:  282\n",
      "Average Seek Time:  28.2\n",
      "Return to main menu? [Y/N]: n\n",
      "Thank you for using AlgoCal!\n"
     ]
    }
   ],
   "source": [
    "#CSCAN\n",
    "Program()"
   ]
  },
  {
   "cell_type": "code",
   "execution_count": 79,
   "metadata": {
    "colab": {
     "base_uri": "https://localhost:8080/",
     "height": 1059
    },
    "id": "MuyHfIjmyXPQ",
    "outputId": "6a4deeeb-d779-4560-95ba-f5a9b8c0670a"
   },
   "outputs": [
    {
     "name": "stdout",
     "output_type": "stream",
     "text": [
      "=============================\n",
      "\n",
      " Enter values:\n",
      "\n",
      "Range upper limit(100-500): 300\n",
      "Enter queue (separated by spaces):214 150 16 60  100 208 187 90  99  134\n",
      "Directions: \n",
      " 1 Left \t 2 Right\n",
      "Enter direction(1-2): 1\n",
      "Enter head value: 100\n",
      "=============================\n",
      "\n",
      "Algorithms:\n",
      " 1 - FCFS \t 2 - SSTF \n",
      " 3 - SCAN \t 4 - CSCAN\n",
      " 5 - LOOK \n",
      "\n",
      "Algorithm selected (num): 5\n",
      "\n",
      "=============================\n",
      "Results: \n",
      "\n"
     ]
    },
    {
     "data": {
      "image/png": "[encoded data removed]",
      "text/plain": [
       "<Figure size 720x720 with 1 Axes>"
      ]
     },
     "metadata": {
      "needs_background": "light"
     },
     "output_type": "display_data"
    },
    {
     "name": "stdout",
     "output_type": "stream",
     "text": [
      "Total Seek Time:  282\n",
      "Average Seek Time:  28.2\n",
      "Return to main menu? [Y/N]: n\n",
      "Thank you for using AlgoCal!\n"
     ]
    }
   ],
   "source": [
    "#LOOK\n",
    "Program()"
   ]
  }
 ],
 "metadata": {
  "colab": {
   "collapsed_sections": [],
   "provenance": []
  },
  "kernelspec": {
   "display_name": "Python 3 (ipykernel)",
   "language": "python",
   "name": "python3"
  },
  "language_info": {
   "codemirror_mode": {
    "name": "ipython",
    "version": 3
   },
   "file_extension": ".py",
   "mimetype": "text/x-python",
   "name": "python",
   "nbconvert_exporter": "python",
   "pygments_lexer": "ipython3",
   "version": "3.10.6"
  }
 },
 "nbformat": 4,
 "nbformat_minor": 1
}
