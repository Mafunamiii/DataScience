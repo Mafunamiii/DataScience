{
 "cells": [
  {
   "cell_type": "code",
   "execution_count": 15,
   "id": "9a6551d2",
   "metadata": {},
   "outputs": [],
   "source": [
    "# import required modules\n",
    "\n",
    "import pandas as pd\n",
    "import numpy as np\n",
    "import matplotlib.pyplot as plt\n",
    "import statsmodels.tools.tools as stattools\n",
    "import random\n",
    "import graphviz\n",
    "import scipy, pylab\n",
    "from sklearn.tree import DecisionTreeClassifier, export_graphviz\n",
    "from sklearn.model_selection import cross_val_score\n",
    "from sklearn.ensemble import RandomForestClassifier\n",
    "from sklearn.model_selection import train_test_split\n",
    "from sklearn.metrics import roc_auc_score\n",
    "from pandas.plotting import radviz\n",
    "from datetime import datetime\n",
    "from scipy import stats"
   ]
  },
  {
   "cell_type": "code",
   "execution_count": 16,
   "id": "d28ceeca",
   "metadata": {},
   "outputs": [
    {
     "name": "stderr",
     "output_type": "stream",
     "text": [
      "/tmp/ipykernel_58193/3487703032.py:1: DtypeWarning: Columns (26) have mixed types. Specify dtype option on import or set low_memory=False.\n",
      "  traffic_violations = pd.read_csv(\"/home/mafunami/Windows_SSD_250/Users/Jahn/PythonSRC/Testing_environment/Datasets/Refined_Traffic_Violations-v5.csv\")\n"
     ]
    }
   ],
   "source": [
    "# read dataset and save it to variable traffic_violations\n",
    "\n",
    "traffic_violations = pd.read_csv(\"/home/mafunami/Windows_SSD_250/Users/Jahn/PythonSRC/Testing_environment/Datasets/Refined_Traffic_Violations-v5.csv\")"
   ]
  },
  {
   "cell_type": "code",
   "execution_count": 17,
   "id": "8504fef3",
   "metadata": {},
   "outputs": [
    {
     "data": {
      "text/plain": [
       "Date Of Stop                                                      09/24/2013\n",
       "Time Of Stop                                                        17:11:00\n",
       "Agency                                                                   MCP\n",
       "SubAgency                                        3rd district, Silver Spring\n",
       "Description                DRIVING VEHICLE ON HIGHWAY WITH SUSPENDED REGI...\n",
       "Location                                                     8804 FLOWER AVE\n",
       "Latitude                                                                 NaN\n",
       "Longitude                                                                NaN\n",
       "Accident                                                                  No\n",
       "Belts                                                                     No\n",
       "Personal Injury                                                           No\n",
       "Property Damage                                                           No\n",
       "Fatal                                                                     No\n",
       "Commercial License                                                        No\n",
       "HAZMAT                                                                    No\n",
       "Commercial Vehicle                                                        No\n",
       "Alcohol                                                                   No\n",
       "Work Zone                                                                 No\n",
       "State                                                                     MD\n",
       "VehicleType                                                    02_Automobile\n",
       "Year                                                                  2008.0\n",
       "Make                                                                    FORD\n",
       "Model                                                                     4S\n",
       "Color                                                                  BLACK\n",
       "Violation Type                                                      Citation\n",
       "Charge                                                             13-401(h)\n",
       "Article                                               Transportation_Article\n",
       "Contributed To Accident                                                   No\n",
       "Race                                                                   BLACK\n",
       "Gender                                                                     M\n",
       "Driver City                                                      TAKOMA_PARK\n",
       "Driver State                                                              MD\n",
       "DL State                                                                  MD\n",
       "Arrest Type                                                A_-_Marked_Patrol\n",
       "Geolocation                                                              NaN\n",
       "Name: 0, dtype: object"
      ]
     },
     "execution_count": 17,
     "metadata": {},
     "output_type": "execute_result"
    }
   ],
   "source": [
    "# show raw and unedited dataset (1 record)\n",
    "\n",
    "traffic_violations.loc[0]"
   ]
  },
  {
   "cell_type": "code",
   "execution_count": null,
   "id": "924707e1",
   "metadata": {},
   "outputs": [],
   "source": [
    "# Drop irrelevant and unnecessary features\n",
    "\n",
    "traffic_violations.drop(['Agency', 'SubAgency', 'Description', 'Location', 'Commercial License', 'HAZMAT', 'Commercial Vehicle', 'Work Zone', 'State','Year','Model','Color','Charge', 'Contributed To Accident', 'Race', 'Gender', 'Driver City', 'DL State', 'Property Damage', 'VehicleType', 'Article', 'Driver State', 'Arrest Type'], axis = 1, inplace=True)"
   ]
  },
  {
   "cell_type": "code",
   "execution_count": 19,
   "id": "1d090f31",
   "metadata": {},
   "outputs": [
    {
     "data": {
      "text/plain": [
       "Date Of Stop       09/24/2013\n",
       "Time Of Stop         17:11:00\n",
       "Latitude                  NaN\n",
       "Longitude                 NaN\n",
       "Accident                   No\n",
       "Belts                      No\n",
       "Personal Injury            No\n",
       "Fatal                      No\n",
       "Alcohol                    No\n",
       "Make                     FORD\n",
       "Violation Type       Citation\n",
       "Geolocation               NaN\n",
       "Name: 0, dtype: object"
      ]
     },
     "execution_count": 19,
     "metadata": {},
     "output_type": "execute_result"
    }
   ],
   "source": [
    "# Show current dataset (1 record)\n",
    "\n",
    "traffic_violations.loc[0]"
   ]
  },
  {
   "cell_type": "code",
   "execution_count": 20,
   "id": "062279e4",
   "metadata": {},
   "outputs": [
    {
     "data": {
      "text/plain": [
       "(1015270, 12)"
      ]
     },
     "execution_count": 20,
     "metadata": {},
     "output_type": "execute_result"
    }
   ],
   "source": [
    "# get dataset size in columns and rows\n",
    "\n",
    "traffic_violations.shape"
   ]
  },
  {
   "cell_type": "code",
   "execution_count": 21,
   "id": "96a20507",
   "metadata": {},
   "outputs": [],
   "source": [
    "# Create new columns such as index with the shape output as reference\n",
    "# and Brand with Make as reference\n",
    "\n",
    "traffic_violations['index'] = pd.Series(range(0, 1015270))\n",
    "traffic_violations['Brand'] = traffic_violations['Make']\n",
    "\n",
    "dict_Brand = {\"Brand\": {\"ACURA\": 0, \"BMW\": 1, \"BUICK\": 2, \"CADILLAC\": 3, \"CAMRY\": 4, \"CHEVROLET\": 5 , \"CHRYSLER\": 6, \"DODGE\": 7, \"FORD\": 8, \"FREIGHTLINER\": 9, \"FREIGHTTRACK\": 10, \"GRAND_MARQUIS\": 11, \"HARLEYDAVIDSON\": 12, \"HONDA\": 13, \"HYUNDAI\": 14, \"INFINITY\": 15, \"INTERNATIONAL\": 16, \"ISUZU\": 17, \"JAGUAR\": 18, \"KAWASAKI\": 19, \"LANDCRUISER\": 20, \"LAND_ROVER\": 21, \"LEXUS\": 22, \"LINCOLN\": 23, \"MAZDA\": 24, \"MERCEDES\": 25, \"MINI_COOPER\": 26, \"MITSUBISHI\": 27, \"NISSAN\": 28, \"OLDSMOBILE\": 29, \"PONTIAC\": 30, \"PORSCHE\": 31, \"RANGE_ROVER\": 32, \"SUBARU\": 33, \"SUZUKI\": 34, \"TOYOTA\": 35, \"VOLVO\": 36, \"VOLKSWAGEN\": 37, \"YAMAHA\": 38}}\n",
    "traffic_violations['Brand'] = traffic_violations['Brand'].map(dict_Brand['Brand'])"
   ]
  },
  {
   "cell_type": "code",
   "execution_count": 22,
   "id": "f33c1fe1",
   "metadata": {},
   "outputs": [
    {
     "name": "stdout",
     "output_type": "stream",
     "text": [
      "Frequency of Car Manufacturer brands in traffic violations\n"
     ]
    },
    {
     "data": {
      "text/plain": [
       "<AxesSubplot:>"
      ]
     },
     "execution_count": 22,
     "metadata": {},
     "output_type": "execute_result"
    },
    {
     "data": {
      "image/png": "[encoded data removed]",
      "text/plain": [
       "<Figure size 720x720 with 1 Axes>"
      ]
     },
     "metadata": {
      "needs_background": "light"
     },
     "output_type": "display_data"
    }
   ],
   "source": [
    "# visualize the frequency of car manufacturer in records within\n",
    "# traffic violations\n",
    "\n",
    "print('Frequency of Car Manufacturer brands in traffic violations')\n",
    "traffic_violations['Brand'].hist(color='c', alpha = .8, bins = 37, figsize = (10,10))"
   ]
  },
  {
   "cell_type": "code",
   "execution_count": null,
   "id": "0648e709",
   "metadata": {},
   "outputs": [],
   "source": [
    "# Preparing the data of belts and personal injury\n",
    "\n",
    "FactorsCrosstab = pd.crosstab(traffic_violations['Belts'], traffic_violations['Alcohol'])\n",
    "medicalCrosstab = pd.crosstab(traffic_violations['Personal Injury'], traffic_violations['Fatal'])\n"
   ]
  },
  {
   "cell_type": "code",
   "execution_count": 23,
   "id": "9f78c684",
   "metadata": {},
   "outputs": [
    {
     "name": "stderr",
     "output_type": "stream",
     "text": [
      "/tmp/ipykernel_58193/3768803013.py:9: FutureWarning: The default value of numeric_only in DataFrameGroupBy.sum is deprecated. In a future version, numeric_only will default to False. Either specify numeric_only or select only columns which should be valid for the function.\n",
      "  tfy_df = tfy_df.groupby(tfy_df['YEAR']).sum()\n",
      "/tmp/ipykernel_58193/3768803013.py:13: FutureWarning: The default value of numeric_only in DataFrameGroupBy.sum is deprecated. In a future version, numeric_only will default to False. Either specify numeric_only or select only columns which should be valid for the function.\n",
      "  tfh_df = tfh_df.groupby(tfh_df['HOUR']).sum()\n"
     ]
    }
   ],
   "source": [
    "# Preparing the date and time data for visualization over the course\n",
    "# of years and time (in 24-hour format)\n",
    "\n",
    "\n",
    "# create new dataframes for date of stop and time of stop\n",
    "tfy_df = traffic_violations['Date Of Stop'].value_counts().rename_axis('Date').reset_index(name='Count')\n",
    "tfh_df = traffic_violations['Time Of Stop'].value_counts().rename_axis('Time').reset_index(name='Count')\n",
    "\n",
    "# convert the records to proper date and time format using to_datetime\n",
    "tfy_df['Date'] = pd.to_datetime(tfy_df['Date'])\n",
    "# given that year is the subject, .dt.year is used\n",
    "tfy_df['YEAR'] = tfy_df['Date'].dt.year\n",
    "# group the data by years starting from 2012-2016\n",
    "tfy_df = tfy_df.groupby(tfy_df['YEAR']).sum()\n",
    "\n",
    "# convert the records to proper date and time format using to_datetime\n",
    "tfh_df['Time'] = pd.to_datetime(tfh_df['Time'])\n",
    "# given that year is the subject, .dt.hour is used\n",
    "tfh_df['HOUR'] = tfh_df['Time'].dt.hour\n",
    "# group the data by hour using 24-hour format\n",
    "tfh_df = tfh_df.groupby(tfh_df['HOUR']).sum()\n"
   ]
  },
  {
   "cell_type": "code",
   "execution_count": 24,
   "id": "a561d84c",
   "metadata": {},
   "outputs": [
    {
     "data": {
      "text/plain": [
       "Text(0, 0.5, 'Frequency')"
      ]
     },
     "execution_count": 24,
     "metadata": {},
     "output_type": "execute_result"
    },
    {
     "data": {
      "image/png": "[encoded data removed]",
      "text/plain": [
       "<Figure size 720x432 with 1 Axes>"
      ]
     },
     "metadata": {
      "needs_background": "light"
     },
     "output_type": "display_data"
    }
   ],
   "source": [
    "# plot the dataset year grouped and formatting the graph as follows\n",
    "\n",
    "yearplot = tfy_df.plot(title='Traffic Violation from 2012 to 2016', figsize = (10,6), fontsize = 12)\n",
    "yearplot.set_xticks(tfy_df.index)\n",
    "yearplot.set_xlabel(\"Year\")\n",
    "yearplot.set_ylabel(\"Frequency\")"
   ]
  },
  {
   "cell_type": "code",
   "execution_count": 25,
   "id": "1688f1de",
   "metadata": {},
   "outputs": [
    {
     "data": {
      "text/plain": [
       "Text(0, 0.5, 'Frequency')"
      ]
     },
     "execution_count": 25,
     "metadata": {},
     "output_type": "execute_result"
    },
    {
     "data": {
      "image/png": "[encoded data removed]",
      "text/plain": [
       "<Figure size 720x432 with 1 Axes>"
      ]
     },
     "metadata": {
      "needs_background": "light"
     },
     "output_type": "display_data"
    }
   ],
   "source": [
    "# plot the dataset hour grouped and formatting the graph as follows\n",
    "\n",
    "hourplot = tfh_df.plot(title='Traffic Violation frequency based on time', figsize = (10,6), fontsize = 12)\n",
    "hourplot.set_xticks(tfh_df.index)\n",
    "hourplot.set_xlabel(\"Hour (24h)\")\n",
    "hourplot.set_ylabel(\"Frequency\")"
   ]
  },
  {
   "cell_type": "code",
   "execution_count": null,
   "id": "c87f2999",
   "metadata": {},
   "outputs": [],
   "source": []
  },
  {
   "cell_type": "code",
   "execution_count": 26,
   "id": "ab8b5cca",
   "metadata": {},
   "outputs": [
    {
     "name": "stderr",
     "output_type": "stream",
     "text": [
      "/tmp/ipykernel_58193/2090408251.py:1: DtypeWarning: Columns (26) have mixed types. Specify dtype option on import or set low_memory=False.\n",
      "  trafficVs = pd.read_csv(\"/home/mafunami/Windows_SSD_250/Users/Jahn/PythonSRC/Testing_environment/Datasets/Refined_Traffic_Violations-v5.csv\")\n"
     ]
    }
   ],
   "source": [
    "#import and drop irrelevant data\n",
    "trafficVs = pd.read_csv(\"/home/mafunami/Windows_SSD_250/Users/Jahn/PythonSRC/Testing_environment/Datasets/Refined_Traffic_Violations-v5.csv\")\n",
    "trafficVs.drop(['Agency', 'SubAgency', 'Description', 'Location', 'Commercial License', 'HAZMAT', 'Commercial Vehicle', 'Work Zone', 'State','Year','Model','Color','Charge', 'Contributed To Accident', 'Race', 'Gender', 'Driver City', 'DL State', 'Property Damage', 'VehicleType', 'Article', 'Driver State', 'Arrest Type'], axis = 1, inplace=True)\n",
    "\n",
    "#split dataset into train and test\n",
    "traffic_train, traffic_test = train_test_split (trafficVs, test_size = 0.25, random_state = 7)"
   ]
  },
  {
   "cell_type": "code",
   "execution_count": 27,
   "id": "f6498de4",
   "metadata": {},
   "outputs": [
    {
     "name": "stderr",
     "output_type": "stream",
     "text": [
      "/home/mafunami/.local/lib/python3.10/site-packages/statsmodels/tools/tools.py:152: FutureWarning: categorical is deprecated. Use pandas Categorical to represent categorical data and can get_dummies to construct dummy arrays. It will be removed after release 0.13.\n",
      "  warnings.warn(\n",
      "/home/mafunami/.local/lib/python3.10/site-packages/sklearn/utils/validation.py:1858: FutureWarning: Feature names only support names that are all strings. Got feature names with dtypes: ['int', 'str']. An error will be raised in 1.2.\n",
      "  warnings.warn(\n",
      "/home/mafunami/.local/lib/python3.10/site-packages/sklearn/utils/validation.py:1858: FutureWarning: Feature names only support names that are all strings. Got feature names with dtypes: ['int', 'str']. An error will be raised in 1.2.\n",
      "  warnings.warn(\n"
     ]
    }
   ],
   "source": [
    "# resampling alcohol column to be used in modeling\n",
    "to_resampleB = traffic_train.loc[traffic_train['Alcohol'] == \"Yes\"]\n",
    "new_resampleB = to_resampleB.sample(n=323530, replace = True)\n",
    "traffic_trainRebalB = pd.concat([traffic_train, new_resampleB])\n",
    "\n",
    "# creating new columns to equate to Alcohol and Personal Injury\n",
    "traffic_trainRebalB['AlcoholNum'] = traffic_trainRebalB['Alcohol']\n",
    "traffic_trainRebalB['PInjuryNum'] = traffic_trainRebalB['Personal Injury']\n",
    "\n",
    "# converting the values in the newly created columns into a 1 for yes and 0 for no\n",
    "trainAlcohol_dict = {'Alcohol': {'Yes': 1, 'No': 0}}\n",
    "trainPInjury_dict = {'Personal Injury': {'Yes': 1, 'No': 0}}\n",
    "\n",
    "# Assigining converted values into the respective columns\n",
    "traffic_trainRebalB['AlcoholNum'].replace(trainAlcohol_dict['Alcohol'], inplace=True)\n",
    "traffic_trainRebalB['PInjuryNum'].replace(trainPInjury_dict['Personal Injury'], inplace=True)\n",
    "\n",
    "# creating new array using the Violation Type which is a categorical data\n",
    "violT_np = np.array(traffic_trainRebalB['Violation Type'])\n",
    "# saving the processed categorical data to a list and a dictionary\n",
    "(viol_cat,viol_cat_dict) = stattools.categorical(violT_np, drop=True, dictnames = True)\n",
    "\n",
    "# creating a new pandas dataframe using the viol_cat list\n",
    "viol_cat_pd = pd.DataFrame(viol_cat)\n",
    "# resetting the index of the training dataset\n",
    "traffic_trainRebalB = traffic_trainRebalB.reset_index()\n",
    "\n",
    "# assigning respective x and y values, with y being the target variable\n",
    "x = pd.concat((traffic_trainRebalB[['AlcoholNum']], viol_cat_pd), axis = 1)\n",
    "y = traffic_trainRebalB[['PInjuryNum']]\n",
    "\n",
    "# properly labeling the x and y axises\n",
    "xlabels = ['Alcohol','Citation','Warning','ESERO']\n",
    "ylabels = ['Yes', 'No']\n",
    "\n",
    "# Creating a model using C5.0 algorithm\n",
    "trainTree = DecisionTreeClassifier(criterion='entropy',max_leaf_nodes = 5).fit(x,y)\n",
    "# Creating a model using C5.0 algorithm\n",
    "traincart = DecisionTreeClassifier(criterion='gini',max_leaf_nodes = 5).fit(x,y)\n",
    "\n",
    "# Saving outputs as graphs\n",
    "traindata1 = export_graphviz(trainTree, out_file=None, feature_names=xlabels, class_names=ylabels)\n",
    "traindata2 = export_graphviz(traincart, out_file=None, feature_names=xlabels, class_names=ylabels)\n"
   ]
  },
  {
   "cell_type": "code",
   "execution_count": 28,
   "id": "3cdd3ce9",
   "metadata": {},
   "outputs": [
    {
     "name": "stderr",
     "output_type": "stream",
     "text": [
      "/tmp/ipykernel_58193/4256622423.py:1: DtypeWarning: Columns (26) have mixed types. Specify dtype option on import or set low_memory=False.\n",
      "  trafficViolations = pd.read_csv(\"/home/mafunami/Windows_SSD_250/Users/Jahn/PythonSRC/Testing_environment/Datasets/Refined_Traffic_Violations-v5.csv\")\n"
     ]
    }
   ],
   "source": [
    "trafficViolations = pd.read_csv(\"/home/mafunami/Windows_SSD_250/Users/Jahn/PythonSRC/Testing_environment/Datasets/Refined_Traffic_Violations-v5.csv\")\n",
    "trafficViolations.drop(['Agency', 'SubAgency', 'Description', 'Location', 'Commercial License', 'HAZMAT', 'Commercial Vehicle', 'Work Zone', 'State','Year','Model','Color','Charge', 'Contributed To Accident', 'Race', 'Gender', 'Driver City', 'DL State', 'Property Damage', 'VehicleType', 'Article', 'Driver State', 'Arrest Type'], axis = 1, inplace=True)"
   ]
  },
  {
   "cell_type": "code",
   "execution_count": 29,
   "id": "4fa146a4",
   "metadata": {},
   "outputs": [
    {
     "name": "stderr",
     "output_type": "stream",
     "text": [
      "/home/mafunami/.local/lib/python3.10/site-packages/statsmodels/tools/tools.py:152: FutureWarning: categorical is deprecated. Use pandas Categorical to represent categorical data and can get_dummies to construct dummy arrays. It will be removed after release 0.13.\n",
      "  warnings.warn(\n",
      "/home/mafunami/.local/lib/python3.10/site-packages/sklearn/utils/validation.py:1858: FutureWarning: Feature names only support names that are all strings. Got feature names with dtypes: ['int', 'str']. An error will be raised in 1.2.\n",
      "  warnings.warn(\n",
      "/home/mafunami/.local/lib/python3.10/site-packages/sklearn/utils/validation.py:1858: FutureWarning: Feature names only support names that are all strings. Got feature names with dtypes: ['int', 'str']. An error will be raised in 1.2.\n",
      "  warnings.warn(\n"
     ]
    }
   ],
   "source": [
    "trafficViolations['AlcoholNum'] = trafficViolations['Alcohol']\n",
    "trafficViolations['PInjuryNum'] = trafficViolations['Personal Injury']\n",
    "\n",
    "TrueAlcohol_dict = {'Alcohol': {'Yes': 1, 'No': 0}}\n",
    "TruePInjury_dict = {'Personal Injury': {'Yes': 1, 'No': 0}}\n",
    "\n",
    "trafficViolations['AlcoholNum'].replace(TrueAlcohol_dict['Alcohol'], inplace=True)\n",
    "trafficViolations['PInjuryNum'].replace(TruePInjury_dict['Personal Injury'], inplace=True)\n",
    "\n",
    "violation_np = np.array(trafficViolations['Violation Type'])\n",
    "(violation_cat, violation_cat_dict) = stattools.categorical(violation_np, drop = True, dictnames = True)\n",
    "violation_cat_pd = pd.DataFrame(violation_cat)\n",
    "\n",
    "X = pd.concat((trafficViolations['AlcoholNum'], violation_cat_pd), axis =1)\n",
    "Y = trafficViolations['PInjuryNum']\n",
    "\n",
    "Xlabels = ['Alcohol','Citation','Warning','ESERO']\n",
    "Ylabels = ['Yes', 'No']\n",
    "\n",
    "TrueTree = DecisionTreeClassifier(criterion='entropy',max_leaf_nodes = 5).fit(X,Y)\n",
    "Truecart = DecisionTreeClassifier(criterion='gini',max_leaf_nodes = 5).fit(X,Y)\n",
    "\n",
    "Truedata1 = export_graphviz(TrueTree, out_file=None, feature_names=Xlabels, class_names=Ylabels)\n",
    "Truedata2 = export_graphviz(Truecart, out_file=None, feature_names=Xlabels, class_names=Ylabels)"
   ]
  },
  {
   "cell_type": "code",
   "execution_count": 30,
   "id": "2a964a7d",
   "metadata": {},
   "outputs": [
    {
     "name": "stdout",
     "output_type": "stream",
     "text": [
      "True data (entropy)\n"
     ]
    },
    {
     "data": {
      "image/svg+xml": [
       "<?xml version=\"1.0\" encoding=\"UTF-8\" standalone=\"no\"?>\n",
       "<!DOCTYPE svg PUBLIC \"-//W3C//DTD SVG 1.1//EN\"\n",
       " \"http://www.w3.org/Graphics/SVG/1.1/DTD/svg11.dtd\">\n",
       "<!-- Generated by graphviz version 2.43.0 (0)\n",
       " -->\n",
       "<!-- Title: Tree Pages: 1 -->\n",
       "<svg width=\"739pt\" height=\"433pt\"\n",
       " viewBox=\"0.00 0.00 738.50 433.00\" xmlns=\"http://www.w3.org/2000/svg\" xmlns:xlink=\"http://www.w3.org/1999/xlink\">\n",
       "<g id=\"graph0\" class=\"graph\" transform=\"scale(1 1) rotate(0) translate(4 429)\">\n",
       "<title>Tree</title>\n",
       "<polygon fill=\"white\" stroke=\"transparent\" points=\"-4,4 -4,-429 734.5,-429 734.5,4 -4,4\"/>\n",
       "<!-- 0 -->\n",
       "<g id=\"node1\" class=\"node\">\n",
       "<title>0</title>\n",
       "<polygon fill=\"none\" stroke=\"black\" points=\"466.5,-425 263.5,-425 263.5,-342 466.5,-342 466.5,-425\"/>\n",
       "<text text-anchor=\"middle\" x=\"365\" y=\"-409.8\" font-family=\"Helvetica,sans-Serif\" font-size=\"14.00\">Citation &lt;= 0.5</text>\n",
       "<text text-anchor=\"middle\" x=\"365\" y=\"-394.8\" font-family=\"Helvetica,sans-Serif\" font-size=\"14.00\">entropy = 0.091</text>\n",
       "<text text-anchor=\"middle\" x=\"365\" y=\"-379.8\" font-family=\"Helvetica,sans-Serif\" font-size=\"14.00\">samples = 1015270</text>\n",
       "<text text-anchor=\"middle\" x=\"365\" y=\"-364.8\" font-family=\"Helvetica,sans-Serif\" font-size=\"14.00\">value = [1003538, 11732]</text>\n",
       "<text text-anchor=\"middle\" x=\"365\" y=\"-349.8\" font-family=\"Helvetica,sans-Serif\" font-size=\"14.00\">class = Yes</text>\n",
       "</g>\n",
       "<!-- 1 -->\n",
       "<g id=\"node2\" class=\"node\">\n",
       "<title>1</title>\n",
       "<polygon fill=\"none\" stroke=\"black\" points=\"352,-306 176,-306 176,-223 352,-223 352,-306\"/>\n",
       "<text text-anchor=\"middle\" x=\"264\" y=\"-290.8\" font-family=\"Helvetica,sans-Serif\" font-size=\"14.00\">ESERO &lt;= 0.5</text>\n",
       "<text text-anchor=\"middle\" x=\"264\" y=\"-275.8\" font-family=\"Helvetica,sans-Serif\" font-size=\"14.00\">entropy = 0.014</text>\n",
       "<text text-anchor=\"middle\" x=\"264\" y=\"-260.8\" font-family=\"Helvetica,sans-Serif\" font-size=\"14.00\">samples = 519222</text>\n",
       "<text text-anchor=\"middle\" x=\"264\" y=\"-245.8\" font-family=\"Helvetica,sans-Serif\" font-size=\"14.00\">value = [518558, 664]</text>\n",
       "<text text-anchor=\"middle\" x=\"264\" y=\"-230.8\" font-family=\"Helvetica,sans-Serif\" font-size=\"14.00\">class = Yes</text>\n",
       "</g>\n",
       "<!-- 0&#45;&gt;1 -->\n",
       "<g id=\"edge1\" class=\"edge\">\n",
       "<title>0&#45;&gt;1</title>\n",
       "<path fill=\"none\" stroke=\"black\" d=\"M329.96,-341.91C322.12,-332.83 313.74,-323.12 305.67,-313.77\"/>\n",
       "<polygon fill=\"black\" stroke=\"black\" points=\"308.16,-311.3 298.98,-306.02 302.86,-315.88 308.16,-311.3\"/>\n",
       "<text text-anchor=\"middle\" x=\"297.15\" y=\"-327.25\" font-family=\"Helvetica,sans-Serif\" font-size=\"14.00\">True</text>\n",
       "</g>\n",
       "<!-- 2 -->\n",
       "<g id=\"node7\" class=\"node\">\n",
       "<title>2</title>\n",
       "<polygon fill=\"none\" stroke=\"black\" points=\"564,-306 370,-306 370,-223 564,-223 564,-306\"/>\n",
       "<text text-anchor=\"middle\" x=\"467\" y=\"-290.8\" font-family=\"Helvetica,sans-Serif\" font-size=\"14.00\">Alcohol &lt;= 0.5</text>\n",
       "<text text-anchor=\"middle\" x=\"467\" y=\"-275.8\" font-family=\"Helvetica,sans-Serif\" font-size=\"14.00\">entropy = 0.154</text>\n",
       "<text text-anchor=\"middle\" x=\"467\" y=\"-260.8\" font-family=\"Helvetica,sans-Serif\" font-size=\"14.00\">samples = 496048</text>\n",
       "<text text-anchor=\"middle\" x=\"467\" y=\"-245.8\" font-family=\"Helvetica,sans-Serif\" font-size=\"14.00\">value = [484980, 11068]</text>\n",
       "<text text-anchor=\"middle\" x=\"467\" y=\"-230.8\" font-family=\"Helvetica,sans-Serif\" font-size=\"14.00\">class = Yes</text>\n",
       "</g>\n",
       "<!-- 0&#45;&gt;2 -->\n",
       "<g id=\"edge6\" class=\"edge\">\n",
       "<title>0&#45;&gt;2</title>\n",
       "<path fill=\"none\" stroke=\"black\" d=\"M400.39,-341.91C408.3,-332.83 416.77,-323.12 424.92,-313.77\"/>\n",
       "<polygon fill=\"black\" stroke=\"black\" points=\"427.74,-315.86 431.67,-306.02 422.46,-311.26 427.74,-315.86\"/>\n",
       "<text text-anchor=\"middle\" x=\"433.38\" y=\"-327.26\" font-family=\"Helvetica,sans-Serif\" font-size=\"14.00\">False</text>\n",
       "</g>\n",
       "<!-- 3 -->\n",
       "<g id=\"node3\" class=\"node\">\n",
       "<title>3</title>\n",
       "<polygon fill=\"none\" stroke=\"black\" points=\"158,-179.5 0,-179.5 0,-111.5 158,-111.5 158,-179.5\"/>\n",
       "<text text-anchor=\"middle\" x=\"79\" y=\"-164.3\" font-family=\"Helvetica,sans-Serif\" font-size=\"14.00\">entropy = 0.003</text>\n",
       "<text text-anchor=\"middle\" x=\"79\" y=\"-149.3\" font-family=\"Helvetica,sans-Serif\" font-size=\"14.00\">samples = 51942</text>\n",
       "<text text-anchor=\"middle\" x=\"79\" y=\"-134.3\" font-family=\"Helvetica,sans-Serif\" font-size=\"14.00\">value = [51932, 10]</text>\n",
       "<text text-anchor=\"middle\" x=\"79\" y=\"-119.3\" font-family=\"Helvetica,sans-Serif\" font-size=\"14.00\">class = Yes</text>\n",
       "</g>\n",
       "<!-- 1&#45;&gt;3 -->\n",
       "<g id=\"edge2\" class=\"edge\">\n",
       "<title>1&#45;&gt;3</title>\n",
       "<path fill=\"none\" stroke=\"black\" d=\"M199.82,-222.91C180.45,-210.66 159.25,-197.25 140.09,-185.13\"/>\n",
       "<polygon fill=\"black\" stroke=\"black\" points=\"141.77,-182.05 131.44,-179.67 138.02,-187.97 141.77,-182.05\"/>\n",
       "</g>\n",
       "<!-- 4 -->\n",
       "<g id=\"node4\" class=\"node\">\n",
       "<title>4</title>\n",
       "<polygon fill=\"none\" stroke=\"black\" points=\"352,-187 176,-187 176,-104 352,-104 352,-187\"/>\n",
       "<text text-anchor=\"middle\" x=\"264\" y=\"-171.8\" font-family=\"Helvetica,sans-Serif\" font-size=\"14.00\">Alcohol &lt;= 0.5</text>\n",
       "<text text-anchor=\"middle\" x=\"264\" y=\"-156.8\" font-family=\"Helvetica,sans-Serif\" font-size=\"14.00\">entropy = 0.015</text>\n",
       "<text text-anchor=\"middle\" x=\"264\" y=\"-141.8\" font-family=\"Helvetica,sans-Serif\" font-size=\"14.00\">samples = 467280</text>\n",
       "<text text-anchor=\"middle\" x=\"264\" y=\"-126.8\" font-family=\"Helvetica,sans-Serif\" font-size=\"14.00\">value = [466626, 654]</text>\n",
       "<text text-anchor=\"middle\" x=\"264\" y=\"-111.8\" font-family=\"Helvetica,sans-Serif\" font-size=\"14.00\">class = Yes</text>\n",
       "</g>\n",
       "<!-- 1&#45;&gt;4 -->\n",
       "<g id=\"edge3\" class=\"edge\">\n",
       "<title>1&#45;&gt;4</title>\n",
       "<path fill=\"none\" stroke=\"black\" d=\"M264,-222.91C264,-214.65 264,-205.86 264,-197.3\"/>\n",
       "<polygon fill=\"black\" stroke=\"black\" points=\"267.5,-197.02 264,-187.02 260.5,-197.02 267.5,-197.02\"/>\n",
       "</g>\n",
       "<!-- 7 -->\n",
       "<g id=\"node5\" class=\"node\">\n",
       "<title>7</title>\n",
       "<polygon fill=\"none\" stroke=\"black\" points=\"266,-68 90,-68 90,0 266,0 266,-68\"/>\n",
       "<text text-anchor=\"middle\" x=\"178\" y=\"-52.8\" font-family=\"Helvetica,sans-Serif\" font-size=\"14.00\">entropy = 0.015</text>\n",
       "<text text-anchor=\"middle\" x=\"178\" y=\"-37.8\" font-family=\"Helvetica,sans-Serif\" font-size=\"14.00\">samples = 467169</text>\n",
       "<text text-anchor=\"middle\" x=\"178\" y=\"-22.8\" font-family=\"Helvetica,sans-Serif\" font-size=\"14.00\">value = [466515, 654]</text>\n",
       "<text text-anchor=\"middle\" x=\"178\" y=\"-7.8\" font-family=\"Helvetica,sans-Serif\" font-size=\"14.00\">class = Yes</text>\n",
       "</g>\n",
       "<!-- 4&#45;&gt;7 -->\n",
       "<g id=\"edge4\" class=\"edge\">\n",
       "<title>4&#45;&gt;7</title>\n",
       "<path fill=\"none\" stroke=\"black\" d=\"M231.98,-103.73C224.96,-94.79 217.52,-85.32 210.48,-76.36\"/>\n",
       "<polygon fill=\"black\" stroke=\"black\" points=\"213.08,-74 204.15,-68.3 207.58,-78.33 213.08,-74\"/>\n",
       "</g>\n",
       "<!-- 8 -->\n",
       "<g id=\"node6\" class=\"node\">\n",
       "<title>8</title>\n",
       "<polygon fill=\"none\" stroke=\"black\" points=\"415.5,-68 284.5,-68 284.5,0 415.5,0 415.5,-68\"/>\n",
       "<text text-anchor=\"middle\" x=\"350\" y=\"-52.8\" font-family=\"Helvetica,sans-Serif\" font-size=\"14.00\">entropy = 0.0</text>\n",
       "<text text-anchor=\"middle\" x=\"350\" y=\"-37.8\" font-family=\"Helvetica,sans-Serif\" font-size=\"14.00\">samples = 111</text>\n",
       "<text text-anchor=\"middle\" x=\"350\" y=\"-22.8\" font-family=\"Helvetica,sans-Serif\" font-size=\"14.00\">value = [111, 0]</text>\n",
       "<text text-anchor=\"middle\" x=\"350\" y=\"-7.8\" font-family=\"Helvetica,sans-Serif\" font-size=\"14.00\">class = Yes</text>\n",
       "</g>\n",
       "<!-- 4&#45;&gt;8 -->\n",
       "<g id=\"edge5\" class=\"edge\">\n",
       "<title>4&#45;&gt;8</title>\n",
       "<path fill=\"none\" stroke=\"black\" d=\"M296.02,-103.73C303.04,-94.79 310.48,-85.32 317.52,-76.36\"/>\n",
       "<polygon fill=\"black\" stroke=\"black\" points=\"320.42,-78.33 323.85,-68.3 314.92,-74 320.42,-78.33\"/>\n",
       "</g>\n",
       "<!-- 5 -->\n",
       "<g id=\"node8\" class=\"node\">\n",
       "<title>5</title>\n",
       "<polygon fill=\"none\" stroke=\"black\" points=\"564,-179.5 370,-179.5 370,-111.5 564,-111.5 564,-179.5\"/>\n",
       "<text text-anchor=\"middle\" x=\"467\" y=\"-164.3\" font-family=\"Helvetica,sans-Serif\" font-size=\"14.00\">entropy = 0.154</text>\n",
       "<text text-anchor=\"middle\" x=\"467\" y=\"-149.3\" font-family=\"Helvetica,sans-Serif\" font-size=\"14.00\">samples = 494184</text>\n",
       "<text text-anchor=\"middle\" x=\"467\" y=\"-134.3\" font-family=\"Helvetica,sans-Serif\" font-size=\"14.00\">value = [483188, 10996]</text>\n",
       "<text text-anchor=\"middle\" x=\"467\" y=\"-119.3\" font-family=\"Helvetica,sans-Serif\" font-size=\"14.00\">class = Yes</text>\n",
       "</g>\n",
       "<!-- 2&#45;&gt;5 -->\n",
       "<g id=\"edge7\" class=\"edge\">\n",
       "<title>2&#45;&gt;5</title>\n",
       "<path fill=\"none\" stroke=\"black\" d=\"M467,-222.91C467,-212.2 467,-200.62 467,-189.78\"/>\n",
       "<polygon fill=\"black\" stroke=\"black\" points=\"470.5,-189.67 467,-179.67 463.5,-189.67 470.5,-189.67\"/>\n",
       "</g>\n",
       "<!-- 6 -->\n",
       "<g id=\"node9\" class=\"node\">\n",
       "<title>6</title>\n",
       "<polygon fill=\"none\" stroke=\"black\" points=\"730.5,-179.5 581.5,-179.5 581.5,-111.5 730.5,-111.5 730.5,-179.5\"/>\n",
       "<text text-anchor=\"middle\" x=\"656\" y=\"-164.3\" font-family=\"Helvetica,sans-Serif\" font-size=\"14.00\">entropy = 0.236</text>\n",
       "<text text-anchor=\"middle\" x=\"656\" y=\"-149.3\" font-family=\"Helvetica,sans-Serif\" font-size=\"14.00\">samples = 1864</text>\n",
       "<text text-anchor=\"middle\" x=\"656\" y=\"-134.3\" font-family=\"Helvetica,sans-Serif\" font-size=\"14.00\">value = [1792, 72]</text>\n",
       "<text text-anchor=\"middle\" x=\"656\" y=\"-119.3\" font-family=\"Helvetica,sans-Serif\" font-size=\"14.00\">class = Yes</text>\n",
       "</g>\n",
       "<!-- 2&#45;&gt;6 -->\n",
       "<g id=\"edge8\" class=\"edge\">\n",
       "<title>2&#45;&gt;6</title>\n",
       "<path fill=\"none\" stroke=\"black\" d=\"M532.57,-222.91C552.45,-210.6 574.21,-197.13 593.85,-184.97\"/>\n",
       "<polygon fill=\"black\" stroke=\"black\" points=\"595.76,-187.91 602.42,-179.67 592.08,-181.95 595.76,-187.91\"/>\n",
       "</g>\n",
       "</g>\n",
       "</svg>\n"
      ],
      "text/plain": [
       "<graphviz.sources.Source at 0x7f5fc26b37c0>"
      ]
     },
     "execution_count": 30,
     "metadata": {},
     "output_type": "execute_result"
    }
   ],
   "source": [
    "print('True data (entropy)')\n",
    "graphviz.Source(Truedata1)"
   ]
  },
  {
   "cell_type": "code",
   "execution_count": 31,
   "id": "054e391b",
   "metadata": {},
   "outputs": [
    {
     "name": "stdout",
     "output_type": "stream",
     "text": [
      "Training data (entropy)\n"
     ]
    },
    {
     "data": {
      "image/svg+xml": [
       "<?xml version=\"1.0\" encoding=\"UTF-8\" standalone=\"no\"?>\n",
       "<!DOCTYPE svg PUBLIC \"-//W3C//DTD SVG 1.1//EN\"\n",
       " \"http://www.w3.org/Graphics/SVG/1.1/DTD/svg11.dtd\">\n",
       "<!-- Generated by graphviz version 2.43.0 (0)\n",
       " -->\n",
       "<!-- Title: Tree Pages: 1 -->\n",
       "<svg width=\"864pt\" height=\"433pt\"\n",
       " viewBox=\"0.00 0.00 864.00 433.00\" xmlns=\"http://www.w3.org/2000/svg\" xmlns:xlink=\"http://www.w3.org/1999/xlink\">\n",
       "<g id=\"graph0\" class=\"graph\" transform=\"scale(1 1) rotate(0) translate(4 429)\">\n",
       "<title>Tree</title>\n",
       "<polygon fill=\"white\" stroke=\"transparent\" points=\"-4,4 -4,-429 860,-429 860,4 -4,4\"/>\n",
       "<!-- 0 -->\n",
       "<g id=\"node1\" class=\"node\">\n",
       "<title>0</title>\n",
       "<polygon fill=\"none\" stroke=\"black\" points=\"555.5,-425 352.5,-425 352.5,-342 555.5,-342 555.5,-425\"/>\n",
       "<text text-anchor=\"middle\" x=\"454\" y=\"-409.8\" font-family=\"Helvetica,sans-Serif\" font-size=\"14.00\">Citation &lt;= 0.5</text>\n",
       "<text text-anchor=\"middle\" x=\"454\" y=\"-394.8\" font-family=\"Helvetica,sans-Serif\" font-size=\"14.00\">entropy = 0.138</text>\n",
       "<text text-anchor=\"middle\" x=\"454\" y=\"-379.8\" font-family=\"Helvetica,sans-Serif\" font-size=\"14.00\">samples = 1084982</text>\n",
       "<text text-anchor=\"middle\" x=\"454\" y=\"-364.8\" font-family=\"Helvetica,sans-Serif\" font-size=\"14.00\">value = [1063959, 21023]</text>\n",
       "<text text-anchor=\"middle\" x=\"454\" y=\"-349.8\" font-family=\"Helvetica,sans-Serif\" font-size=\"14.00\">class = Yes</text>\n",
       "</g>\n",
       "<!-- 1 -->\n",
       "<g id=\"node2\" class=\"node\">\n",
       "<title>1</title>\n",
       "<polygon fill=\"none\" stroke=\"black\" points=\"441,-306 265,-306 265,-223 441,-223 441,-306\"/>\n",
       "<text text-anchor=\"middle\" x=\"353\" y=\"-290.8\" font-family=\"Helvetica,sans-Serif\" font-size=\"14.00\">Warning &lt;= 0.5</text>\n",
       "<text text-anchor=\"middle\" x=\"353\" y=\"-275.8\" font-family=\"Helvetica,sans-Serif\" font-size=\"14.00\">entropy = 0.013</text>\n",
       "<text text-anchor=\"middle\" x=\"353\" y=\"-260.8\" font-family=\"Helvetica,sans-Serif\" font-size=\"14.00\">samples = 408461</text>\n",
       "<text text-anchor=\"middle\" x=\"353\" y=\"-245.8\" font-family=\"Helvetica,sans-Serif\" font-size=\"14.00\">value = [407970, 491]</text>\n",
       "<text text-anchor=\"middle\" x=\"353\" y=\"-230.8\" font-family=\"Helvetica,sans-Serif\" font-size=\"14.00\">class = Yes</text>\n",
       "</g>\n",
       "<!-- 0&#45;&gt;1 -->\n",
       "<g id=\"edge1\" class=\"edge\">\n",
       "<title>0&#45;&gt;1</title>\n",
       "<path fill=\"none\" stroke=\"black\" d=\"M418.96,-341.91C411.12,-332.83 402.74,-323.12 394.67,-313.77\"/>\n",
       "<polygon fill=\"black\" stroke=\"black\" points=\"397.16,-311.3 387.98,-306.02 391.86,-315.88 397.16,-311.3\"/>\n",
       "<text text-anchor=\"middle\" x=\"386.15\" y=\"-327.25\" font-family=\"Helvetica,sans-Serif\" font-size=\"14.00\">True</text>\n",
       "</g>\n",
       "<!-- 2 -->\n",
       "<g id=\"node7\" class=\"node\">\n",
       "<title>2</title>\n",
       "<polygon fill=\"none\" stroke=\"black\" points=\"653,-306 459,-306 459,-223 653,-223 653,-306\"/>\n",
       "<text text-anchor=\"middle\" x=\"556\" y=\"-290.8\" font-family=\"Helvetica,sans-Serif\" font-size=\"14.00\">Alcohol &lt;= 0.5</text>\n",
       "<text text-anchor=\"middle\" x=\"556\" y=\"-275.8\" font-family=\"Helvetica,sans-Serif\" font-size=\"14.00\">entropy = 0.196</text>\n",
       "<text text-anchor=\"middle\" x=\"556\" y=\"-260.8\" font-family=\"Helvetica,sans-Serif\" font-size=\"14.00\">samples = 676521</text>\n",
       "<text text-anchor=\"middle\" x=\"556\" y=\"-245.8\" font-family=\"Helvetica,sans-Serif\" font-size=\"14.00\">value = [655989, 20532]</text>\n",
       "<text text-anchor=\"middle\" x=\"556\" y=\"-230.8\" font-family=\"Helvetica,sans-Serif\" font-size=\"14.00\">class = Yes</text>\n",
       "</g>\n",
       "<!-- 0&#45;&gt;2 -->\n",
       "<g id=\"edge6\" class=\"edge\">\n",
       "<title>0&#45;&gt;2</title>\n",
       "<path fill=\"none\" stroke=\"black\" d=\"M489.39,-341.91C497.3,-332.83 505.77,-323.12 513.92,-313.77\"/>\n",
       "<polygon fill=\"black\" stroke=\"black\" points=\"516.74,-315.86 520.67,-306.02 511.46,-311.26 516.74,-315.86\"/>\n",
       "<text text-anchor=\"middle\" x=\"522.38\" y=\"-327.26\" font-family=\"Helvetica,sans-Serif\" font-size=\"14.00\">False</text>\n",
       "</g>\n",
       "<!-- 5 -->\n",
       "<g id=\"node3\" class=\"node\">\n",
       "<title>5</title>\n",
       "<polygon fill=\"none\" stroke=\"black\" points=\"266,-187 90,-187 90,-104 266,-104 266,-187\"/>\n",
       "<text text-anchor=\"middle\" x=\"178\" y=\"-171.8\" font-family=\"Helvetica,sans-Serif\" font-size=\"14.00\">Alcohol &lt;= 0.5</text>\n",
       "<text text-anchor=\"middle\" x=\"178\" y=\"-156.8\" font-family=\"Helvetica,sans-Serif\" font-size=\"14.00\">entropy = 0.014</text>\n",
       "<text text-anchor=\"middle\" x=\"178\" y=\"-141.8\" font-family=\"Helvetica,sans-Serif\" font-size=\"14.00\">samples = 368508</text>\n",
       "<text text-anchor=\"middle\" x=\"178\" y=\"-126.8\" font-family=\"Helvetica,sans-Serif\" font-size=\"14.00\">value = [368024, 484]</text>\n",
       "<text text-anchor=\"middle\" x=\"178\" y=\"-111.8\" font-family=\"Helvetica,sans-Serif\" font-size=\"14.00\">class = Yes</text>\n",
       "</g>\n",
       "<!-- 1&#45;&gt;5 -->\n",
       "<g id=\"edge2\" class=\"edge\">\n",
       "<title>1&#45;&gt;5</title>\n",
       "<path fill=\"none\" stroke=\"black\" d=\"M292.28,-222.91C277.76,-213.2 262.15,-202.76 247.27,-192.81\"/>\n",
       "<polygon fill=\"black\" stroke=\"black\" points=\"248.87,-189.67 238.61,-187.02 244.98,-195.49 248.87,-189.67\"/>\n",
       "</g>\n",
       "<!-- 6 -->\n",
       "<g id=\"node6\" class=\"node\">\n",
       "<title>6</title>\n",
       "<polygon fill=\"none\" stroke=\"black\" points=\"432.5,-179.5 283.5,-179.5 283.5,-111.5 432.5,-111.5 432.5,-179.5\"/>\n",
       "<text text-anchor=\"middle\" x=\"358\" y=\"-164.3\" font-family=\"Helvetica,sans-Serif\" font-size=\"14.00\">entropy = 0.002</text>\n",
       "<text text-anchor=\"middle\" x=\"358\" y=\"-149.3\" font-family=\"Helvetica,sans-Serif\" font-size=\"14.00\">samples = 39953</text>\n",
       "<text text-anchor=\"middle\" x=\"358\" y=\"-134.3\" font-family=\"Helvetica,sans-Serif\" font-size=\"14.00\">value = [39946, 7]</text>\n",
       "<text text-anchor=\"middle\" x=\"358\" y=\"-119.3\" font-family=\"Helvetica,sans-Serif\" font-size=\"14.00\">class = Yes</text>\n",
       "</g>\n",
       "<!-- 1&#45;&gt;6 -->\n",
       "<g id=\"edge5\" class=\"edge\">\n",
       "<title>1&#45;&gt;6</title>\n",
       "<path fill=\"none\" stroke=\"black\" d=\"M354.73,-222.91C355.19,-212.2 355.69,-200.62 356.15,-189.78\"/>\n",
       "<polygon fill=\"black\" stroke=\"black\" points=\"359.65,-189.81 356.58,-179.67 352.66,-189.51 359.65,-189.81\"/>\n",
       "</g>\n",
       "<!-- 7 -->\n",
       "<g id=\"node4\" class=\"node\">\n",
       "<title>7</title>\n",
       "<polygon fill=\"none\" stroke=\"black\" points=\"176,-68 0,-68 0,0 176,0 176,-68\"/>\n",
       "<text text-anchor=\"middle\" x=\"88\" y=\"-52.8\" font-family=\"Helvetica,sans-Serif\" font-size=\"14.00\">entropy = 0.015</text>\n",
       "<text text-anchor=\"middle\" x=\"88\" y=\"-37.8\" font-family=\"Helvetica,sans-Serif\" font-size=\"14.00\">samples = 350253</text>\n",
       "<text text-anchor=\"middle\" x=\"88\" y=\"-22.8\" font-family=\"Helvetica,sans-Serif\" font-size=\"14.00\">value = [349769, 484]</text>\n",
       "<text text-anchor=\"middle\" x=\"88\" y=\"-7.8\" font-family=\"Helvetica,sans-Serif\" font-size=\"14.00\">class = Yes</text>\n",
       "</g>\n",
       "<!-- 5&#45;&gt;7 -->\n",
       "<g id=\"edge3\" class=\"edge\">\n",
       "<title>5&#45;&gt;7</title>\n",
       "<path fill=\"none\" stroke=\"black\" d=\"M144.49,-103.73C137.07,-94.7 129.2,-85.12 121.77,-76.08\"/>\n",
       "<polygon fill=\"black\" stroke=\"black\" points=\"124.42,-73.8 115.37,-68.3 119.02,-78.25 124.42,-73.8\"/>\n",
       "</g>\n",
       "<!-- 8 -->\n",
       "<g id=\"node5\" class=\"node\">\n",
       "<title>8</title>\n",
       "<polygon fill=\"none\" stroke=\"black\" points=\"342.5,-68 193.5,-68 193.5,0 342.5,0 342.5,-68\"/>\n",
       "<text text-anchor=\"middle\" x=\"268\" y=\"-52.8\" font-family=\"Helvetica,sans-Serif\" font-size=\"14.00\">entropy = 0.0</text>\n",
       "<text text-anchor=\"middle\" x=\"268\" y=\"-37.8\" font-family=\"Helvetica,sans-Serif\" font-size=\"14.00\">samples = 18255</text>\n",
       "<text text-anchor=\"middle\" x=\"268\" y=\"-22.8\" font-family=\"Helvetica,sans-Serif\" font-size=\"14.00\">value = [18255, 0]</text>\n",
       "<text text-anchor=\"middle\" x=\"268\" y=\"-7.8\" font-family=\"Helvetica,sans-Serif\" font-size=\"14.00\">class = Yes</text>\n",
       "</g>\n",
       "<!-- 5&#45;&gt;8 -->\n",
       "<g id=\"edge4\" class=\"edge\">\n",
       "<title>5&#45;&gt;8</title>\n",
       "<path fill=\"none\" stroke=\"black\" d=\"M211.51,-103.73C218.93,-94.7 226.8,-85.12 234.23,-76.08\"/>\n",
       "<polygon fill=\"black\" stroke=\"black\" points=\"236.98,-78.25 240.63,-68.3 231.58,-73.8 236.98,-78.25\"/>\n",
       "</g>\n",
       "<!-- 3 -->\n",
       "<g id=\"node8\" class=\"node\">\n",
       "<title>3</title>\n",
       "<polygon fill=\"none\" stroke=\"black\" points=\"644.5,-179.5 459.5,-179.5 459.5,-111.5 644.5,-111.5 644.5,-179.5\"/>\n",
       "<text text-anchor=\"middle\" x=\"552\" y=\"-164.3\" font-family=\"Helvetica,sans-Serif\" font-size=\"14.00\">entropy = 0.153</text>\n",
       "<text text-anchor=\"middle\" x=\"552\" y=\"-149.3\" font-family=\"Helvetica,sans-Serif\" font-size=\"14.00\">samples = 370979</text>\n",
       "<text text-anchor=\"middle\" x=\"552\" y=\"-134.3\" font-family=\"Helvetica,sans-Serif\" font-size=\"14.00\">value = [362757, 8222]</text>\n",
       "<text text-anchor=\"middle\" x=\"552\" y=\"-119.3\" font-family=\"Helvetica,sans-Serif\" font-size=\"14.00\">class = Yes</text>\n",
       "</g>\n",
       "<!-- 2&#45;&gt;3 -->\n",
       "<g id=\"edge7\" class=\"edge\">\n",
       "<title>2&#45;&gt;3</title>\n",
       "<path fill=\"none\" stroke=\"black\" d=\"M554.61,-222.91C554.25,-212.2 553.85,-200.62 553.48,-189.78\"/>\n",
       "<polygon fill=\"black\" stroke=\"black\" points=\"556.97,-189.54 553.13,-179.67 549.98,-189.78 556.97,-189.54\"/>\n",
       "</g>\n",
       "<!-- 4 -->\n",
       "<g id=\"node9\" class=\"node\">\n",
       "<title>4</title>\n",
       "<polygon fill=\"none\" stroke=\"black\" points=\"856,-179.5 662,-179.5 662,-111.5 856,-111.5 856,-179.5\"/>\n",
       "<text text-anchor=\"middle\" x=\"759\" y=\"-164.3\" font-family=\"Helvetica,sans-Serif\" font-size=\"14.00\">entropy = 0.244</text>\n",
       "<text text-anchor=\"middle\" x=\"759\" y=\"-149.3\" font-family=\"Helvetica,sans-Serif\" font-size=\"14.00\">samples = 305542</text>\n",
       "<text text-anchor=\"middle\" x=\"759\" y=\"-134.3\" font-family=\"Helvetica,sans-Serif\" font-size=\"14.00\">value = [293232, 12310]</text>\n",
       "<text text-anchor=\"middle\" x=\"759\" y=\"-119.3\" font-family=\"Helvetica,sans-Serif\" font-size=\"14.00\">class = Yes</text>\n",
       "</g>\n",
       "<!-- 2&#45;&gt;4 -->\n",
       "<g id=\"edge8\" class=\"edge\">\n",
       "<title>2&#45;&gt;4</title>\n",
       "<path fill=\"none\" stroke=\"black\" d=\"M626.43,-222.91C647.87,-210.55 671.36,-197.01 692.53,-184.81\"/>\n",
       "<polygon fill=\"black\" stroke=\"black\" points=\"694.54,-187.69 701.45,-179.67 691.04,-181.63 694.54,-187.69\"/>\n",
       "</g>\n",
       "</g>\n",
       "</svg>\n"
      ],
      "text/plain": [
       "<graphviz.sources.Source at 0x7f5fc8ca6560>"
      ]
     },
     "execution_count": 31,
     "metadata": {},
     "output_type": "execute_result"
    }
   ],
   "source": [
    "print('Training data (entropy)')\n",
    "graphviz.Source(traindata1)"
   ]
  },
  {
   "cell_type": "code",
   "execution_count": 32,
   "id": "a29cace3",
   "metadata": {},
   "outputs": [
    {
     "name": "stdout",
     "output_type": "stream",
     "text": [
      "True data (gini)\n"
     ]
    },
    {
     "data": {
      "image/svg+xml": [
       "<?xml version=\"1.0\" encoding=\"UTF-8\" standalone=\"no\"?>\n",
       "<!DOCTYPE svg PUBLIC \"-//W3C//DTD SVG 1.1//EN\"\n",
       " \"http://www.w3.org/Graphics/SVG/1.1/DTD/svg11.dtd\">\n",
       "<!-- Generated by graphviz version 2.43.0 (0)\n",
       " -->\n",
       "<!-- Title: Tree Pages: 1 -->\n",
       "<svg width=\"829pt\" height=\"433pt\"\n",
       " viewBox=\"0.00 0.00 828.50 433.00\" xmlns=\"http://www.w3.org/2000/svg\" xmlns:xlink=\"http://www.w3.org/1999/xlink\">\n",
       "<g id=\"graph0\" class=\"graph\" transform=\"scale(1 1) rotate(0) translate(4 429)\">\n",
       "<title>Tree</title>\n",
       "<polygon fill=\"white\" stroke=\"transparent\" points=\"-4,4 -4,-429 824.5,-429 824.5,4 -4,4\"/>\n",
       "<!-- 0 -->\n",
       "<g id=\"node1\" class=\"node\">\n",
       "<title>0</title>\n",
       "<polygon fill=\"none\" stroke=\"black\" points=\"558.5,-425 355.5,-425 355.5,-342 558.5,-342 558.5,-425\"/>\n",
       "<text text-anchor=\"middle\" x=\"457\" y=\"-409.8\" font-family=\"Helvetica,sans-Serif\" font-size=\"14.00\">Citation &lt;= 0.5</text>\n",
       "<text text-anchor=\"middle\" x=\"457\" y=\"-394.8\" font-family=\"Helvetica,sans-Serif\" font-size=\"14.00\">gini = 0.023</text>\n",
       "<text text-anchor=\"middle\" x=\"457\" y=\"-379.8\" font-family=\"Helvetica,sans-Serif\" font-size=\"14.00\">samples = 1015270</text>\n",
       "<text text-anchor=\"middle\" x=\"457\" y=\"-364.8\" font-family=\"Helvetica,sans-Serif\" font-size=\"14.00\">value = [1003538, 11732]</text>\n",
       "<text text-anchor=\"middle\" x=\"457\" y=\"-349.8\" font-family=\"Helvetica,sans-Serif\" font-size=\"14.00\">class = Yes</text>\n",
       "</g>\n",
       "<!-- 1 -->\n",
       "<g id=\"node2\" class=\"node\">\n",
       "<title>1</title>\n",
       "<polygon fill=\"none\" stroke=\"black\" points=\"444,-306 268,-306 268,-223 444,-223 444,-306\"/>\n",
       "<text text-anchor=\"middle\" x=\"356\" y=\"-290.8\" font-family=\"Helvetica,sans-Serif\" font-size=\"14.00\">Warning &lt;= 0.5</text>\n",
       "<text text-anchor=\"middle\" x=\"356\" y=\"-275.8\" font-family=\"Helvetica,sans-Serif\" font-size=\"14.00\">gini = 0.003</text>\n",
       "<text text-anchor=\"middle\" x=\"356\" y=\"-260.8\" font-family=\"Helvetica,sans-Serif\" font-size=\"14.00\">samples = 519222</text>\n",
       "<text text-anchor=\"middle\" x=\"356\" y=\"-245.8\" font-family=\"Helvetica,sans-Serif\" font-size=\"14.00\">value = [518558, 664]</text>\n",
       "<text text-anchor=\"middle\" x=\"356\" y=\"-230.8\" font-family=\"Helvetica,sans-Serif\" font-size=\"14.00\">class = Yes</text>\n",
       "</g>\n",
       "<!-- 0&#45;&gt;1 -->\n",
       "<g id=\"edge1\" class=\"edge\">\n",
       "<title>0&#45;&gt;1</title>\n",
       "<path fill=\"none\" stroke=\"black\" d=\"M421.96,-341.91C414.12,-332.83 405.74,-323.12 397.67,-313.77\"/>\n",
       "<polygon fill=\"black\" stroke=\"black\" points=\"400.16,-311.3 390.98,-306.02 394.86,-315.88 400.16,-311.3\"/>\n",
       "<text text-anchor=\"middle\" x=\"389.15\" y=\"-327.25\" font-family=\"Helvetica,sans-Serif\" font-size=\"14.00\">True</text>\n",
       "</g>\n",
       "<!-- 2 -->\n",
       "<g id=\"node7\" class=\"node\">\n",
       "<title>2</title>\n",
       "<polygon fill=\"none\" stroke=\"black\" points=\"656,-306 462,-306 462,-223 656,-223 656,-306\"/>\n",
       "<text text-anchor=\"middle\" x=\"559\" y=\"-290.8\" font-family=\"Helvetica,sans-Serif\" font-size=\"14.00\">Alcohol &lt;= 0.5</text>\n",
       "<text text-anchor=\"middle\" x=\"559\" y=\"-275.8\" font-family=\"Helvetica,sans-Serif\" font-size=\"14.00\">gini = 0.044</text>\n",
       "<text text-anchor=\"middle\" x=\"559\" y=\"-260.8\" font-family=\"Helvetica,sans-Serif\" font-size=\"14.00\">samples = 496048</text>\n",
       "<text text-anchor=\"middle\" x=\"559\" y=\"-245.8\" font-family=\"Helvetica,sans-Serif\" font-size=\"14.00\">value = [484980, 11068]</text>\n",
       "<text text-anchor=\"middle\" x=\"559\" y=\"-230.8\" font-family=\"Helvetica,sans-Serif\" font-size=\"14.00\">class = Yes</text>\n",
       "</g>\n",
       "<!-- 0&#45;&gt;2 -->\n",
       "<g id=\"edge6\" class=\"edge\">\n",
       "<title>0&#45;&gt;2</title>\n",
       "<path fill=\"none\" stroke=\"black\" d=\"M492.39,-341.91C500.3,-332.83 508.77,-323.12 516.92,-313.77\"/>\n",
       "<polygon fill=\"black\" stroke=\"black\" points=\"519.74,-315.86 523.67,-306.02 514.46,-311.26 519.74,-315.86\"/>\n",
       "<text text-anchor=\"middle\" x=\"525.38\" y=\"-327.26\" font-family=\"Helvetica,sans-Serif\" font-size=\"14.00\">False</text>\n",
       "</g>\n",
       "<!-- 5 -->\n",
       "<g id=\"node3\" class=\"node\">\n",
       "<title>5</title>\n",
       "<polygon fill=\"none\" stroke=\"black\" points=\"262,-187 86,-187 86,-104 262,-104 262,-187\"/>\n",
       "<text text-anchor=\"middle\" x=\"174\" y=\"-171.8\" font-family=\"Helvetica,sans-Serif\" font-size=\"14.00\">Alcohol &lt;= 0.5</text>\n",
       "<text text-anchor=\"middle\" x=\"174\" y=\"-156.8\" font-family=\"Helvetica,sans-Serif\" font-size=\"14.00\">gini = 0.003</text>\n",
       "<text text-anchor=\"middle\" x=\"174\" y=\"-141.8\" font-family=\"Helvetica,sans-Serif\" font-size=\"14.00\">samples = 467280</text>\n",
       "<text text-anchor=\"middle\" x=\"174\" y=\"-126.8\" font-family=\"Helvetica,sans-Serif\" font-size=\"14.00\">value = [466626, 654]</text>\n",
       "<text text-anchor=\"middle\" x=\"174\" y=\"-111.8\" font-family=\"Helvetica,sans-Serif\" font-size=\"14.00\">class = Yes</text>\n",
       "</g>\n",
       "<!-- 1&#45;&gt;5 -->\n",
       "<g id=\"edge2\" class=\"edge\">\n",
       "<title>1&#45;&gt;5</title>\n",
       "<path fill=\"none\" stroke=\"black\" d=\"M292.86,-222.91C277.61,-213.11 261.21,-202.56 245.61,-192.53\"/>\n",
       "<polygon fill=\"black\" stroke=\"black\" points=\"247.34,-189.48 237.03,-187.02 243.55,-195.37 247.34,-189.48\"/>\n",
       "</g>\n",
       "<!-- 6 -->\n",
       "<g id=\"node6\" class=\"node\">\n",
       "<title>6</title>\n",
       "<polygon fill=\"none\" stroke=\"black\" points=\"438,-179.5 280,-179.5 280,-111.5 438,-111.5 438,-179.5\"/>\n",
       "<text text-anchor=\"middle\" x=\"359\" y=\"-164.3\" font-family=\"Helvetica,sans-Serif\" font-size=\"14.00\">gini = 0.0</text>\n",
       "<text text-anchor=\"middle\" x=\"359\" y=\"-149.3\" font-family=\"Helvetica,sans-Serif\" font-size=\"14.00\">samples = 51942</text>\n",
       "<text text-anchor=\"middle\" x=\"359\" y=\"-134.3\" font-family=\"Helvetica,sans-Serif\" font-size=\"14.00\">value = [51932, 10]</text>\n",
       "<text text-anchor=\"middle\" x=\"359\" y=\"-119.3\" font-family=\"Helvetica,sans-Serif\" font-size=\"14.00\">class = Yes</text>\n",
       "</g>\n",
       "<!-- 1&#45;&gt;6 -->\n",
       "<g id=\"edge5\" class=\"edge\">\n",
       "<title>1&#45;&gt;6</title>\n",
       "<path fill=\"none\" stroke=\"black\" d=\"M357.04,-222.91C357.32,-212.2 357.61,-200.62 357.89,-189.78\"/>\n",
       "<polygon fill=\"black\" stroke=\"black\" points=\"361.39,-189.75 358.15,-179.67 354.39,-189.57 361.39,-189.75\"/>\n",
       "</g>\n",
       "<!-- 7 -->\n",
       "<g id=\"node4\" class=\"node\">\n",
       "<title>7</title>\n",
       "<polygon fill=\"none\" stroke=\"black\" points=\"176,-68 0,-68 0,0 176,0 176,-68\"/>\n",
       "<text text-anchor=\"middle\" x=\"88\" y=\"-52.8\" font-family=\"Helvetica,sans-Serif\" font-size=\"14.00\">gini = 0.003</text>\n",
       "<text text-anchor=\"middle\" x=\"88\" y=\"-37.8\" font-family=\"Helvetica,sans-Serif\" font-size=\"14.00\">samples = 467169</text>\n",
       "<text text-anchor=\"middle\" x=\"88\" y=\"-22.8\" font-family=\"Helvetica,sans-Serif\" font-size=\"14.00\">value = [466515, 654]</text>\n",
       "<text text-anchor=\"middle\" x=\"88\" y=\"-7.8\" font-family=\"Helvetica,sans-Serif\" font-size=\"14.00\">class = Yes</text>\n",
       "</g>\n",
       "<!-- 5&#45;&gt;7 -->\n",
       "<g id=\"edge3\" class=\"edge\">\n",
       "<title>5&#45;&gt;7</title>\n",
       "<path fill=\"none\" stroke=\"black\" d=\"M141.98,-103.73C134.96,-94.79 127.52,-85.32 120.48,-76.36\"/>\n",
       "<polygon fill=\"black\" stroke=\"black\" points=\"123.08,-74 114.15,-68.3 117.58,-78.33 123.08,-74\"/>\n",
       "</g>\n",
       "<!-- 8 -->\n",
       "<g id=\"node5\" class=\"node\">\n",
       "<title>8</title>\n",
       "<polygon fill=\"none\" stroke=\"black\" points=\"325.5,-68 194.5,-68 194.5,0 325.5,0 325.5,-68\"/>\n",
       "<text text-anchor=\"middle\" x=\"260\" y=\"-52.8\" font-family=\"Helvetica,sans-Serif\" font-size=\"14.00\">gini = 0.0</text>\n",
       "<text text-anchor=\"middle\" x=\"260\" y=\"-37.8\" font-family=\"Helvetica,sans-Serif\" font-size=\"14.00\">samples = 111</text>\n",
       "<text text-anchor=\"middle\" x=\"260\" y=\"-22.8\" font-family=\"Helvetica,sans-Serif\" font-size=\"14.00\">value = [111, 0]</text>\n",
       "<text text-anchor=\"middle\" x=\"260\" y=\"-7.8\" font-family=\"Helvetica,sans-Serif\" font-size=\"14.00\">class = Yes</text>\n",
       "</g>\n",
       "<!-- 5&#45;&gt;8 -->\n",
       "<g id=\"edge4\" class=\"edge\">\n",
       "<title>5&#45;&gt;8</title>\n",
       "<path fill=\"none\" stroke=\"black\" d=\"M206.02,-103.73C213.04,-94.79 220.48,-85.32 227.52,-76.36\"/>\n",
       "<polygon fill=\"black\" stroke=\"black\" points=\"230.42,-78.33 233.85,-68.3 224.92,-74 230.42,-78.33\"/>\n",
       "</g>\n",
       "<!-- 3 -->\n",
       "<g id=\"node8\" class=\"node\">\n",
       "<title>3</title>\n",
       "<polygon fill=\"none\" stroke=\"black\" points=\"654,-179.5 460,-179.5 460,-111.5 654,-111.5 654,-179.5\"/>\n",
       "<text text-anchor=\"middle\" x=\"557\" y=\"-164.3\" font-family=\"Helvetica,sans-Serif\" font-size=\"14.00\">gini = 0.044</text>\n",
       "<text text-anchor=\"middle\" x=\"557\" y=\"-149.3\" font-family=\"Helvetica,sans-Serif\" font-size=\"14.00\">samples = 494184</text>\n",
       "<text text-anchor=\"middle\" x=\"557\" y=\"-134.3\" font-family=\"Helvetica,sans-Serif\" font-size=\"14.00\">value = [483188, 10996]</text>\n",
       "<text text-anchor=\"middle\" x=\"557\" y=\"-119.3\" font-family=\"Helvetica,sans-Serif\" font-size=\"14.00\">class = Yes</text>\n",
       "</g>\n",
       "<!-- 2&#45;&gt;3 -->\n",
       "<g id=\"edge7\" class=\"edge\">\n",
       "<title>2&#45;&gt;3</title>\n",
       "<path fill=\"none\" stroke=\"black\" d=\"M558.31,-222.91C558.12,-212.2 557.93,-200.62 557.74,-189.78\"/>\n",
       "<polygon fill=\"black\" stroke=\"black\" points=\"561.24,-189.61 557.57,-179.67 554.24,-189.73 561.24,-189.61\"/>\n",
       "</g>\n",
       "<!-- 4 -->\n",
       "<g id=\"node9\" class=\"node\">\n",
       "<title>4</title>\n",
       "<polygon fill=\"none\" stroke=\"black\" points=\"820.5,-179.5 671.5,-179.5 671.5,-111.5 820.5,-111.5 820.5,-179.5\"/>\n",
       "<text text-anchor=\"middle\" x=\"746\" y=\"-164.3\" font-family=\"Helvetica,sans-Serif\" font-size=\"14.00\">gini = 0.074</text>\n",
       "<text text-anchor=\"middle\" x=\"746\" y=\"-149.3\" font-family=\"Helvetica,sans-Serif\" font-size=\"14.00\">samples = 1864</text>\n",
       "<text text-anchor=\"middle\" x=\"746\" y=\"-134.3\" font-family=\"Helvetica,sans-Serif\" font-size=\"14.00\">value = [1792, 72]</text>\n",
       "<text text-anchor=\"middle\" x=\"746\" y=\"-119.3\" font-family=\"Helvetica,sans-Serif\" font-size=\"14.00\">class = Yes</text>\n",
       "</g>\n",
       "<!-- 2&#45;&gt;4 -->\n",
       "<g id=\"edge8\" class=\"edge\">\n",
       "<title>2&#45;&gt;4</title>\n",
       "<path fill=\"none\" stroke=\"black\" d=\"M623.88,-222.91C643.46,-210.66 664.88,-197.25 684.25,-185.13\"/>\n",
       "<polygon fill=\"black\" stroke=\"black\" points=\"686.37,-187.94 692.99,-179.67 682.66,-182 686.37,-187.94\"/>\n",
       "</g>\n",
       "</g>\n",
       "</svg>\n"
      ],
      "text/plain": [
       "<graphviz.sources.Source at 0x7f600e3d3610>"
      ]
     },
     "execution_count": 32,
     "metadata": {},
     "output_type": "execute_result"
    }
   ],
   "source": [
    "print('True data (gini)')\n",
    "graphviz.Source(Truedata2)"
   ]
  },
  {
   "cell_type": "code",
   "execution_count": 33,
   "id": "db0bdf8c",
   "metadata": {},
   "outputs": [
    {
     "name": "stdout",
     "output_type": "stream",
     "text": [
      "Training data (gini)\n"
     ]
    },
    {
     "data": {
      "image/svg+xml": [
       "<?xml version=\"1.0\" encoding=\"UTF-8\" standalone=\"no\"?>\n",
       "<!DOCTYPE svg PUBLIC \"-//W3C//DTD SVG 1.1//EN\"\n",
       " \"http://www.w3.org/Graphics/SVG/1.1/DTD/svg11.dtd\">\n",
       "<!-- Generated by graphviz version 2.43.0 (0)\n",
       " -->\n",
       "<!-- Title: Tree Pages: 1 -->\n",
       "<svg width=\"767pt\" height=\"433pt\"\n",
       " viewBox=\"0.00 0.00 766.50 433.00\" xmlns=\"http://www.w3.org/2000/svg\" xmlns:xlink=\"http://www.w3.org/1999/xlink\">\n",
       "<g id=\"graph0\" class=\"graph\" transform=\"scale(1 1) rotate(0) translate(4 429)\">\n",
       "<title>Tree</title>\n",
       "<polygon fill=\"white\" stroke=\"transparent\" points=\"-4,4 -4,-429 762.5,-429 762.5,4 -4,4\"/>\n",
       "<!-- 0 -->\n",
       "<g id=\"node1\" class=\"node\">\n",
       "<title>0</title>\n",
       "<polygon fill=\"none\" stroke=\"black\" points=\"455,-425 252,-425 252,-342 455,-342 455,-425\"/>\n",
       "<text text-anchor=\"middle\" x=\"353.5\" y=\"-409.8\" font-family=\"Helvetica,sans-Serif\" font-size=\"14.00\">Citation &lt;= 0.5</text>\n",
       "<text text-anchor=\"middle\" x=\"353.5\" y=\"-394.8\" font-family=\"Helvetica,sans-Serif\" font-size=\"14.00\">gini = 0.038</text>\n",
       "<text text-anchor=\"middle\" x=\"353.5\" y=\"-379.8\" font-family=\"Helvetica,sans-Serif\" font-size=\"14.00\">samples = 1084982</text>\n",
       "<text text-anchor=\"middle\" x=\"353.5\" y=\"-364.8\" font-family=\"Helvetica,sans-Serif\" font-size=\"14.00\">value = [1063959, 21023]</text>\n",
       "<text text-anchor=\"middle\" x=\"353.5\" y=\"-349.8\" font-family=\"Helvetica,sans-Serif\" font-size=\"14.00\">class = Yes</text>\n",
       "</g>\n",
       "<!-- 1 -->\n",
       "<g id=\"node2\" class=\"node\">\n",
       "<title>1</title>\n",
       "<polygon fill=\"none\" stroke=\"black\" points=\"340.5,-306 164.5,-306 164.5,-223 340.5,-223 340.5,-306\"/>\n",
       "<text text-anchor=\"middle\" x=\"252.5\" y=\"-290.8\" font-family=\"Helvetica,sans-Serif\" font-size=\"14.00\">ESERO &lt;= 0.5</text>\n",
       "<text text-anchor=\"middle\" x=\"252.5\" y=\"-275.8\" font-family=\"Helvetica,sans-Serif\" font-size=\"14.00\">gini = 0.002</text>\n",
       "<text text-anchor=\"middle\" x=\"252.5\" y=\"-260.8\" font-family=\"Helvetica,sans-Serif\" font-size=\"14.00\">samples = 408461</text>\n",
       "<text text-anchor=\"middle\" x=\"252.5\" y=\"-245.8\" font-family=\"Helvetica,sans-Serif\" font-size=\"14.00\">value = [407970, 491]</text>\n",
       "<text text-anchor=\"middle\" x=\"252.5\" y=\"-230.8\" font-family=\"Helvetica,sans-Serif\" font-size=\"14.00\">class = Yes</text>\n",
       "</g>\n",
       "<!-- 0&#45;&gt;1 -->\n",
       "<g id=\"edge1\" class=\"edge\">\n",
       "<title>0&#45;&gt;1</title>\n",
       "<path fill=\"none\" stroke=\"black\" d=\"M318.46,-341.91C310.62,-332.83 302.24,-323.12 294.17,-313.77\"/>\n",
       "<polygon fill=\"black\" stroke=\"black\" points=\"296.66,-311.3 287.48,-306.02 291.36,-315.88 296.66,-311.3\"/>\n",
       "<text text-anchor=\"middle\" x=\"285.65\" y=\"-327.25\" font-family=\"Helvetica,sans-Serif\" font-size=\"14.00\">True</text>\n",
       "</g>\n",
       "<!-- 2 -->\n",
       "<g id=\"node7\" class=\"node\">\n",
       "<title>2</title>\n",
       "<polygon fill=\"none\" stroke=\"black\" points=\"552.5,-306 358.5,-306 358.5,-223 552.5,-223 552.5,-306\"/>\n",
       "<text text-anchor=\"middle\" x=\"455.5\" y=\"-290.8\" font-family=\"Helvetica,sans-Serif\" font-size=\"14.00\">Alcohol &lt;= 0.5</text>\n",
       "<text text-anchor=\"middle\" x=\"455.5\" y=\"-275.8\" font-family=\"Helvetica,sans-Serif\" font-size=\"14.00\">gini = 0.059</text>\n",
       "<text text-anchor=\"middle\" x=\"455.5\" y=\"-260.8\" font-family=\"Helvetica,sans-Serif\" font-size=\"14.00\">samples = 676521</text>\n",
       "<text text-anchor=\"middle\" x=\"455.5\" y=\"-245.8\" font-family=\"Helvetica,sans-Serif\" font-size=\"14.00\">value = [655989, 20532]</text>\n",
       "<text text-anchor=\"middle\" x=\"455.5\" y=\"-230.8\" font-family=\"Helvetica,sans-Serif\" font-size=\"14.00\">class = Yes</text>\n",
       "</g>\n",
       "<!-- 0&#45;&gt;2 -->\n",
       "<g id=\"edge6\" class=\"edge\">\n",
       "<title>0&#45;&gt;2</title>\n",
       "<path fill=\"none\" stroke=\"black\" d=\"M388.89,-341.91C396.8,-332.83 405.27,-323.12 413.42,-313.77\"/>\n",
       "<polygon fill=\"black\" stroke=\"black\" points=\"416.24,-315.86 420.17,-306.02 410.96,-311.26 416.24,-315.86\"/>\n",
       "<text text-anchor=\"middle\" x=\"421.88\" y=\"-327.26\" font-family=\"Helvetica,sans-Serif\" font-size=\"14.00\">False</text>\n",
       "</g>\n",
       "<!-- 5 -->\n",
       "<g id=\"node3\" class=\"node\">\n",
       "<title>5</title>\n",
       "<polygon fill=\"none\" stroke=\"black\" points=\"149,-179.5 0,-179.5 0,-111.5 149,-111.5 149,-179.5\"/>\n",
       "<text text-anchor=\"middle\" x=\"74.5\" y=\"-164.3\" font-family=\"Helvetica,sans-Serif\" font-size=\"14.00\">gini = 0.0</text>\n",
       "<text text-anchor=\"middle\" x=\"74.5\" y=\"-149.3\" font-family=\"Helvetica,sans-Serif\" font-size=\"14.00\">samples = 39953</text>\n",
       "<text text-anchor=\"middle\" x=\"74.5\" y=\"-134.3\" font-family=\"Helvetica,sans-Serif\" font-size=\"14.00\">value = [39946, 7]</text>\n",
       "<text text-anchor=\"middle\" x=\"74.5\" y=\"-119.3\" font-family=\"Helvetica,sans-Serif\" font-size=\"14.00\">class = Yes</text>\n",
       "</g>\n",
       "<!-- 1&#45;&gt;5 -->\n",
       "<g id=\"edge2\" class=\"edge\">\n",
       "<title>1&#45;&gt;5</title>\n",
       "<path fill=\"none\" stroke=\"black\" d=\"M190.74,-222.91C172.28,-210.77 152.08,-197.49 133.78,-185.46\"/>\n",
       "<polygon fill=\"black\" stroke=\"black\" points=\"135.24,-182.23 124.96,-179.67 131.39,-188.08 135.24,-182.23\"/>\n",
       "</g>\n",
       "<!-- 6 -->\n",
       "<g id=\"node4\" class=\"node\">\n",
       "<title>6</title>\n",
       "<polygon fill=\"none\" stroke=\"black\" points=\"342.5,-187 166.5,-187 166.5,-104 342.5,-104 342.5,-187\"/>\n",
       "<text text-anchor=\"middle\" x=\"254.5\" y=\"-171.8\" font-family=\"Helvetica,sans-Serif\" font-size=\"14.00\">Alcohol &lt;= 0.5</text>\n",
       "<text text-anchor=\"middle\" x=\"254.5\" y=\"-156.8\" font-family=\"Helvetica,sans-Serif\" font-size=\"14.00\">gini = 0.003</text>\n",
       "<text text-anchor=\"middle\" x=\"254.5\" y=\"-141.8\" font-family=\"Helvetica,sans-Serif\" font-size=\"14.00\">samples = 368508</text>\n",
       "<text text-anchor=\"middle\" x=\"254.5\" y=\"-126.8\" font-family=\"Helvetica,sans-Serif\" font-size=\"14.00\">value = [368024, 484]</text>\n",
       "<text text-anchor=\"middle\" x=\"254.5\" y=\"-111.8\" font-family=\"Helvetica,sans-Serif\" font-size=\"14.00\">class = Yes</text>\n",
       "</g>\n",
       "<!-- 1&#45;&gt;6 -->\n",
       "<g id=\"edge3\" class=\"edge\">\n",
       "<title>1&#45;&gt;6</title>\n",
       "<path fill=\"none\" stroke=\"black\" d=\"M253.19,-222.91C253.34,-214.56 253.49,-205.67 253.64,-197.02\"/>\n",
       "<polygon fill=\"black\" stroke=\"black\" points=\"257.14,-197.08 253.81,-187.02 250.14,-196.96 257.14,-197.08\"/>\n",
       "</g>\n",
       "<!-- 7 -->\n",
       "<g id=\"node5\" class=\"node\">\n",
       "<title>7</title>\n",
       "<polygon fill=\"none\" stroke=\"black\" points=\"252.5,-68 76.5,-68 76.5,0 252.5,0 252.5,-68\"/>\n",
       "<text text-anchor=\"middle\" x=\"164.5\" y=\"-52.8\" font-family=\"Helvetica,sans-Serif\" font-size=\"14.00\">gini = 0.003</text>\n",
       "<text text-anchor=\"middle\" x=\"164.5\" y=\"-37.8\" font-family=\"Helvetica,sans-Serif\" font-size=\"14.00\">samples = 350253</text>\n",
       "<text text-anchor=\"middle\" x=\"164.5\" y=\"-22.8\" font-family=\"Helvetica,sans-Serif\" font-size=\"14.00\">value = [349769, 484]</text>\n",
       "<text text-anchor=\"middle\" x=\"164.5\" y=\"-7.8\" font-family=\"Helvetica,sans-Serif\" font-size=\"14.00\">class = Yes</text>\n",
       "</g>\n",
       "<!-- 6&#45;&gt;7 -->\n",
       "<g id=\"edge4\" class=\"edge\">\n",
       "<title>6&#45;&gt;7</title>\n",
       "<path fill=\"none\" stroke=\"black\" d=\"M220.99,-103.73C213.57,-94.7 205.7,-85.12 198.27,-76.08\"/>\n",
       "<polygon fill=\"black\" stroke=\"black\" points=\"200.92,-73.8 191.87,-68.3 195.52,-78.25 200.92,-73.8\"/>\n",
       "</g>\n",
       "<!-- 8 -->\n",
       "<g id=\"node6\" class=\"node\">\n",
       "<title>8</title>\n",
       "<polygon fill=\"none\" stroke=\"black\" points=\"419,-68 270,-68 270,0 419,0 419,-68\"/>\n",
       "<text text-anchor=\"middle\" x=\"344.5\" y=\"-52.8\" font-family=\"Helvetica,sans-Serif\" font-size=\"14.00\">gini = 0.0</text>\n",
       "<text text-anchor=\"middle\" x=\"344.5\" y=\"-37.8\" font-family=\"Helvetica,sans-Serif\" font-size=\"14.00\">samples = 18255</text>\n",
       "<text text-anchor=\"middle\" x=\"344.5\" y=\"-22.8\" font-family=\"Helvetica,sans-Serif\" font-size=\"14.00\">value = [18255, 0]</text>\n",
       "<text text-anchor=\"middle\" x=\"344.5\" y=\"-7.8\" font-family=\"Helvetica,sans-Serif\" font-size=\"14.00\">class = Yes</text>\n",
       "</g>\n",
       "<!-- 6&#45;&gt;8 -->\n",
       "<g id=\"edge5\" class=\"edge\">\n",
       "<title>6&#45;&gt;8</title>\n",
       "<path fill=\"none\" stroke=\"black\" d=\"M288.01,-103.73C295.43,-94.7 303.3,-85.12 310.73,-76.08\"/>\n",
       "<polygon fill=\"black\" stroke=\"black\" points=\"313.48,-78.25 317.13,-68.3 308.08,-73.8 313.48,-78.25\"/>\n",
       "</g>\n",
       "<!-- 3 -->\n",
       "<g id=\"node8\" class=\"node\">\n",
       "<title>3</title>\n",
       "<polygon fill=\"none\" stroke=\"black\" points=\"547,-179.5 362,-179.5 362,-111.5 547,-111.5 547,-179.5\"/>\n",
       "<text text-anchor=\"middle\" x=\"454.5\" y=\"-164.3\" font-family=\"Helvetica,sans-Serif\" font-size=\"14.00\">gini = 0.043</text>\n",
       "<text text-anchor=\"middle\" x=\"454.5\" y=\"-149.3\" font-family=\"Helvetica,sans-Serif\" font-size=\"14.00\">samples = 370979</text>\n",
       "<text text-anchor=\"middle\" x=\"454.5\" y=\"-134.3\" font-family=\"Helvetica,sans-Serif\" font-size=\"14.00\">value = [362757, 8222]</text>\n",
       "<text text-anchor=\"middle\" x=\"454.5\" y=\"-119.3\" font-family=\"Helvetica,sans-Serif\" font-size=\"14.00\">class = Yes</text>\n",
       "</g>\n",
       "<!-- 2&#45;&gt;3 -->\n",
       "<g id=\"edge7\" class=\"edge\">\n",
       "<title>2&#45;&gt;3</title>\n",
       "<path fill=\"none\" stroke=\"black\" d=\"M455.15,-222.91C455.06,-212.2 454.96,-200.62 454.87,-189.78\"/>\n",
       "<polygon fill=\"black\" stroke=\"black\" points=\"458.37,-189.64 454.78,-179.67 451.37,-189.7 458.37,-189.64\"/>\n",
       "</g>\n",
       "<!-- 4 -->\n",
       "<g id=\"node9\" class=\"node\">\n",
       "<title>4</title>\n",
       "<polygon fill=\"none\" stroke=\"black\" points=\"758.5,-179.5 564.5,-179.5 564.5,-111.5 758.5,-111.5 758.5,-179.5\"/>\n",
       "<text text-anchor=\"middle\" x=\"661.5\" y=\"-164.3\" font-family=\"Helvetica,sans-Serif\" font-size=\"14.00\">gini = 0.077</text>\n",
       "<text text-anchor=\"middle\" x=\"661.5\" y=\"-149.3\" font-family=\"Helvetica,sans-Serif\" font-size=\"14.00\">samples = 305542</text>\n",
       "<text text-anchor=\"middle\" x=\"661.5\" y=\"-134.3\" font-family=\"Helvetica,sans-Serif\" font-size=\"14.00\">value = [293232, 12310]</text>\n",
       "<text text-anchor=\"middle\" x=\"661.5\" y=\"-119.3\" font-family=\"Helvetica,sans-Serif\" font-size=\"14.00\">class = Yes</text>\n",
       "</g>\n",
       "<!-- 2&#45;&gt;4 -->\n",
       "<g id=\"edge8\" class=\"edge\">\n",
       "<title>2&#45;&gt;4</title>\n",
       "<path fill=\"none\" stroke=\"black\" d=\"M526.97,-222.91C548.83,-210.49 572.78,-196.89 594.34,-184.64\"/>\n",
       "<polygon fill=\"black\" stroke=\"black\" points=\"596.14,-187.65 603.1,-179.67 592.68,-181.56 596.14,-187.65\"/>\n",
       "</g>\n",
       "</g>\n",
       "</svg>\n"
      ],
      "text/plain": [
       "<graphviz.sources.Source at 0x7f5fc26b3af0>"
      ]
     },
     "execution_count": 33,
     "metadata": {},
     "output_type": "execute_result"
    }
   ],
   "source": [
    "print('Training data (gini)')\n",
    "graphviz.Source(traindata2)"
   ]
  },
  {
   "cell_type": "code",
   "execution_count": 34,
   "id": "bf0c238a",
   "metadata": {
    "scrolled": true
   },
   "outputs": [
    {
     "data": {
      "text/plain": [
       "'\\n---------------EVALUATION---------------\\n\\nX and Y are the true datasets\\nx and y are the training datasets\\n'"
      ]
     },
     "execution_count": 34,
     "metadata": {},
     "output_type": "execute_result"
    }
   ],
   "source": [
    "\"\"\"\n",
    "---------------EVALUATION---------------\n",
    "\n",
    "X and Y are the true datasets\n",
    "x and y are the training datasets\n",
    "\"\"\""
   ]
  },
  {
   "cell_type": "code",
   "execution_count": 35,
   "id": "98168a15",
   "metadata": {},
   "outputs": [],
   "source": [
    "clf = RandomForestClassifier()"
   ]
  },
  {
   "cell_type": "code",
   "execution_count": 36,
   "id": "be0f22cd",
   "metadata": {},
   "outputs": [
    {
     "name": "stderr",
     "output_type": "stream",
     "text": [
      "/home/mafunami/.local/lib/python3.10/site-packages/sklearn/utils/validation.py:1858: FutureWarning: Feature names only support names that are all strings. Got feature names with dtypes: ['int', 'str']. An error will be raised in 1.2.\n",
      "  warnings.warn(\n",
      "/home/mafunami/.local/lib/python3.10/site-packages/sklearn/utils/validation.py:1858: FutureWarning: Feature names only support names that are all strings. Got feature names with dtypes: ['int', 'str']. An error will be raised in 1.2.\n",
      "  warnings.warn(\n",
      "/home/mafunami/.local/lib/python3.10/site-packages/sklearn/utils/validation.py:1858: FutureWarning: Feature names only support names that are all strings. Got feature names with dtypes: ['int', 'str']. An error will be raised in 1.2.\n",
      "  warnings.warn(\n",
      "/home/mafunami/.local/lib/python3.10/site-packages/sklearn/utils/validation.py:1858: FutureWarning: Feature names only support names that are all strings. Got feature names with dtypes: ['int', 'str']. An error will be raised in 1.2.\n",
      "  warnings.warn(\n",
      "/home/mafunami/.local/lib/python3.10/site-packages/sklearn/utils/validation.py:1858: FutureWarning: Feature names only support names that are all strings. Got feature names with dtypes: ['int', 'str']. An error will be raised in 1.2.\n",
      "  warnings.warn(\n",
      "/home/mafunami/.local/lib/python3.10/site-packages/sklearn/utils/validation.py:1858: FutureWarning: Feature names only support names that are all strings. Got feature names with dtypes: ['int', 'str']. An error will be raised in 1.2.\n",
      "  warnings.warn(\n",
      "/home/mafunami/.local/lib/python3.10/site-packages/sklearn/utils/validation.py:1858: FutureWarning: Feature names only support names that are all strings. Got feature names with dtypes: ['int', 'str']. An error will be raised in 1.2.\n",
      "  warnings.warn(\n",
      "/home/mafunami/.local/lib/python3.10/site-packages/sklearn/utils/validation.py:1858: FutureWarning: Feature names only support names that are all strings. Got feature names with dtypes: ['int', 'str']. An error will be raised in 1.2.\n",
      "  warnings.warn(\n",
      "/home/mafunami/.local/lib/python3.10/site-packages/sklearn/utils/validation.py:1858: FutureWarning: Feature names only support names that are all strings. Got feature names with dtypes: ['int', 'str']. An error will be raised in 1.2.\n",
      "  warnings.warn(\n",
      "/home/mafunami/.local/lib/python3.10/site-packages/sklearn/utils/validation.py:1858: FutureWarning: Feature names only support names that are all strings. Got feature names with dtypes: ['int', 'str']. An error will be raised in 1.2.\n",
      "  warnings.warn(\n",
      "/home/mafunami/.local/lib/python3.10/site-packages/sklearn/utils/validation.py:1858: FutureWarning: Feature names only support names that are all strings. Got feature names with dtypes: ['int', 'str']. An error will be raised in 1.2.\n",
      "  warnings.warn(\n",
      "/home/mafunami/.local/lib/python3.10/site-packages/sklearn/model_selection/_validation.py:686: DataConversionWarning: A column-vector y was passed when a 1d array was expected. Please change the shape of y to (n_samples,), for example using ravel().\n",
      "  estimator.fit(X_train, y_train, **fit_params)\n",
      "/home/mafunami/.local/lib/python3.10/site-packages/sklearn/utils/validation.py:1858: FutureWarning: Feature names only support names that are all strings. Got feature names with dtypes: ['int', 'str']. An error will be raised in 1.2.\n",
      "  warnings.warn(\n",
      "/home/mafunami/.local/lib/python3.10/site-packages/sklearn/utils/validation.py:1858: FutureWarning: Feature names only support names that are all strings. Got feature names with dtypes: ['int', 'str']. An error will be raised in 1.2.\n",
      "  warnings.warn(\n",
      "/home/mafunami/.local/lib/python3.10/site-packages/sklearn/model_selection/_validation.py:686: DataConversionWarning: A column-vector y was passed when a 1d array was expected. Please change the shape of y to (n_samples,), for example using ravel().\n",
      "  estimator.fit(X_train, y_train, **fit_params)\n",
      "/home/mafunami/.local/lib/python3.10/site-packages/sklearn/utils/validation.py:1858: FutureWarning: Feature names only support names that are all strings. Got feature names with dtypes: ['int', 'str']. An error will be raised in 1.2.\n",
      "  warnings.warn(\n",
      "/home/mafunami/.local/lib/python3.10/site-packages/sklearn/utils/validation.py:1858: FutureWarning: Feature names only support names that are all strings. Got feature names with dtypes: ['int', 'str']. An error will be raised in 1.2.\n",
      "  warnings.warn(\n",
      "/home/mafunami/.local/lib/python3.10/site-packages/sklearn/model_selection/_validation.py:686: DataConversionWarning: A column-vector y was passed when a 1d array was expected. Please change the shape of y to (n_samples,), for example using ravel().\n",
      "  estimator.fit(X_train, y_train, **fit_params)\n",
      "/home/mafunami/.local/lib/python3.10/site-packages/sklearn/utils/validation.py:1858: FutureWarning: Feature names only support names that are all strings. Got feature names with dtypes: ['int', 'str']. An error will be raised in 1.2.\n",
      "  warnings.warn(\n",
      "/home/mafunami/.local/lib/python3.10/site-packages/sklearn/utils/validation.py:1858: FutureWarning: Feature names only support names that are all strings. Got feature names with dtypes: ['int', 'str']. An error will be raised in 1.2.\n",
      "  warnings.warn(\n",
      "/home/mafunami/.local/lib/python3.10/site-packages/sklearn/model_selection/_validation.py:686: DataConversionWarning: A column-vector y was passed when a 1d array was expected. Please change the shape of y to (n_samples,), for example using ravel().\n",
      "  estimator.fit(X_train, y_train, **fit_params)\n",
      "/home/mafunami/.local/lib/python3.10/site-packages/sklearn/utils/validation.py:1858: FutureWarning: Feature names only support names that are all strings. Got feature names with dtypes: ['int', 'str']. An error will be raised in 1.2.\n",
      "  warnings.warn(\n",
      "/home/mafunami/.local/lib/python3.10/site-packages/sklearn/utils/validation.py:1858: FutureWarning: Feature names only support names that are all strings. Got feature names with dtypes: ['int', 'str']. An error will be raised in 1.2.\n",
      "  warnings.warn(\n",
      "/home/mafunami/.local/lib/python3.10/site-packages/sklearn/model_selection/_validation.py:686: DataConversionWarning: A column-vector y was passed when a 1d array was expected. Please change the shape of y to (n_samples,), for example using ravel().\n",
      "  estimator.fit(X_train, y_train, **fit_params)\n",
      "/home/mafunami/.local/lib/python3.10/site-packages/sklearn/utils/validation.py:1858: FutureWarning: Feature names only support names that are all strings. Got feature names with dtypes: ['int', 'str']. An error will be raised in 1.2.\n",
      "  warnings.warn(\n"
     ]
    }
   ],
   "source": [
    "# assigns the cross value score of the true datasets and training datasets\n",
    "# the cross_val_score function calculates the mean accuracy and are saved into separate variables\n",
    "Truecvscore = cross_val_score(clf, X, Y, cv = 5 )\n",
    "Traincvscore = cross_val_score(clf, x, y, cv = 5 )"
   ]
  },
  {
   "cell_type": "code",
   "execution_count": 37,
   "id": "7078f60a",
   "metadata": {},
   "outputs": [],
   "source": [
    "# The following two lines of code provides the accuracy of the model if given the sample\n",
    "# to the training model\n",
    "\n",
    "# for the training: nine(9) times out of ten(10), the model will provide correct results"
   ]
  },
  {
   "cell_type": "code",
   "execution_count": 38,
   "id": "617242c5",
   "metadata": {},
   "outputs": [
    {
     "name": "stdout",
     "output_type": "stream",
     "text": [
      "True Classifier cross-validation accuracy:  98.84%\n"
     ]
    }
   ],
   "source": [
    "# mean accuracy for true dataset\n",
    "print(f\"True Classifier cross-validation accuracy: {np.mean(Truecvscore) *100: .2f}%\")"
   ]
  },
  {
   "cell_type": "code",
   "execution_count": 39,
   "id": "0778d9d8",
   "metadata": {},
   "outputs": [
    {
     "name": "stdout",
     "output_type": "stream",
     "text": [
      "Train Classifier cross-validation accuracy:  98.06%\n"
     ]
    }
   ],
   "source": [
    "# mean accuracy for training dataset\n",
    "print(f\"Train Classifier cross-validation accuracy: {np.mean(Traincvscore) *100: .2f}%\")"
   ]
  },
  {
   "cell_type": "code",
   "execution_count": 40,
   "id": "c02b4e4a",
   "metadata": {},
   "outputs": [
    {
     "name": "stderr",
     "output_type": "stream",
     "text": [
      "/home/mafunami/.local/lib/python3.10/site-packages/sklearn/utils/validation.py:1858: FutureWarning: Feature names only support names that are all strings. Got feature names with dtypes: ['int', 'str']. An error will be raised in 1.2.\n",
      "  warnings.warn(\n",
      "/tmp/ipykernel_58193/786628321.py:4: DataConversionWarning: A column-vector y was passed when a 1d array was expected. Please change the shape of y to (n_samples,), for example using ravel().\n",
      "  clf.fit(x,y)\n",
      "/home/mafunami/.local/lib/python3.10/site-packages/sklearn/utils/validation.py:1858: FutureWarning: Feature names only support names that are all strings. Got feature names with dtypes: ['int', 'str']. An error will be raised in 1.2.\n",
      "  warnings.warn(\n"
     ]
    }
   ],
   "source": [
    "#import roc_curve to utilize the roc_curve function\n",
    "from sklearn.metrics import roc_curve\n",
    "\n",
    "clf.fit(x,y)\n",
    "Y_probability = clf.predict_proba(X)"
   ]
  },
  {
   "cell_type": "code",
   "execution_count": 41,
   "id": "635277f0",
   "metadata": {},
   "outputs": [
    {
     "data": {
      "text/plain": [
       "array([0.02215464, 0.02215464, 0.02215464, 0.02215464, 0.02215464,\n",
       "       0.02215464, 0.02215464, 0.02215464, 0.02215464, 0.02215464])"
      ]
     },
     "execution_count": 41,
     "metadata": {},
     "output_type": "execute_result"
    }
   ],
   "source": [
    "y_probs_pos = Y_probability[:,1]\n",
    "y_probs_pos[:10]"
   ]
  },
  {
   "cell_type": "code",
   "execution_count": 43,
   "id": "a2cd65e9",
   "metadata": {},
   "outputs": [],
   "source": [
    "fpr, tpr, thresholds = roc_curve(Y, y_probs_pos)"
   ]
  },
  {
   "cell_type": "code",
   "execution_count": 44,
   "id": "c75cc245",
   "metadata": {},
   "outputs": [
    {
     "data": {
      "image/png": "[encoded data removed]",
      "text/plain": [
       "<Figure size 432x288 with 1 Axes>"
      ]
     },
     "metadata": {
      "needs_background": "light"
     },
     "output_type": "display_data"
    }
   ],
   "source": [
    "# plotting model roc curve\n",
    "\n",
    "plt.plot(fpr, tpr, color='orange', label='ROC')\n",
    "plt.plot([0,1],[0,1], color = 'darkblue', linestyle='--', label='Guessing')\n",
    "\n",
    "plt.xlabel('False positive rate (fpr)')\n",
    "plt.ylabel('True positive rate (tpr)')\n",
    "plt.title('Receiver Operating Characteristic (ROC) Curve')\n",
    "plt.legend()\n",
    "plt.show()"
   ]
  },
  {
   "cell_type": "code",
   "execution_count": 45,
   "id": "5fa8709d",
   "metadata": {},
   "outputs": [
    {
     "data": {
      "text/plain": [
       "0.7319542389302814"
      ]
     },
     "execution_count": 45,
     "metadata": {},
     "output_type": "execute_result"
    }
   ],
   "source": [
    "# roc score of the model\n",
    "\n",
    "roc_auc_score(Y, y_probs_pos)"
   ]
  },
  {
   "cell_type": "code",
   "execution_count": 46,
   "id": "aaebd5f8",
   "metadata": {},
   "outputs": [
    {
     "data": {
      "image/png": "[encoded data removed]",
      "text/plain": [
       "<Figure size 432x288 with 1 Axes>"
      ]
     },
     "metadata": {
      "needs_background": "light"
     },
     "output_type": "display_data"
    }
   ],
   "source": [
    "# plotting roc curve in perfect conditions\n",
    "\n",
    "fpr, tpr, tresholds = roc_curve(y, y)\n",
    "plt.plot(fpr, tpr, color='orange', label='ROC')\n",
    "plt.plot([0,1],[0,1], color = 'darkblue', linestyle='--', label='Guessing')\n",
    "\n",
    "plt.xlabel('False positive rate (fpr)')\n",
    "plt.ylabel('True positive rate (tpr)')\n",
    "plt.title('Receiver Operating Characteristic (ROC) Curve')\n",
    "plt.legend()\n",
    "plt.show()\n"
   ]
  },
  {
   "cell_type": "code",
   "execution_count": 47,
   "id": "d903ae3b",
   "metadata": {},
   "outputs": [
    {
     "data": {
      "text/plain": [
       "1.0"
      ]
     },
     "execution_count": 47,
     "metadata": {},
     "output_type": "execute_result"
    }
   ],
   "source": [
    "# roc score if in perfect conditions\n",
    "roc_auc_score(Y,Y)"
   ]
  },
  {
   "cell_type": "code",
   "execution_count": null,
   "id": "d5d72073",
   "metadata": {},
   "outputs": [],
   "source": []
  }
 ],
 "metadata": {
  "kernelspec": {
   "display_name": "Python 3 (ipykernel)",
   "language": "python",
   "name": "python3"
  },
  "language_info": {
   "codemirror_mode": {
    "name": "ipython",
    "version": 3
   },
   "file_extension": ".py",
   "mimetype": "text/x-python",
   "name": "python",
   "nbconvert_exporter": "python",
   "pygments_lexer": "ipython3",
   "version": "3.10.6"
  }
 },
 "nbformat": 4,
 "nbformat_minor": 5
}
